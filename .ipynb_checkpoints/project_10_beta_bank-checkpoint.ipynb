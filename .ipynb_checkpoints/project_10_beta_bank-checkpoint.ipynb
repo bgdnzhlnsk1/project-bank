{
 "cells": [
  {
   "cell_type": "markdown",
   "metadata": {},
   "source": [
    "### Ссылка на репозиторий\n",
    "https://github.com/bgdnzhlnsk1/project-bank.git"
   ]
  },
  {
   "cell_type": "markdown",
   "metadata": {
    "toc": true
   },
   "source": [
    "<h1>Содержание<span class=\"tocSkip\"></span></h1>\n",
    "<div class=\"toc\"><ul class=\"toc-item\"><li><span><a href=\"#Подготовка-данных\" data-toc-modified-id=\"Подготовка-данных-1\"><span class=\"toc-item-num\">1&nbsp;&nbsp;</span>Подготовка данных</a></span><ul class=\"toc-item\"><li><span><a href=\"#Загрузка-библиотек\" data-toc-modified-id=\"Загрузка-библиотек-1.1\"><span class=\"toc-item-num\">1.1&nbsp;&nbsp;</span>Загрузка библиотек</a></span></li><li><span><a href=\"#Чтение-данных\" data-toc-modified-id=\"Чтение-данных-1.2\"><span class=\"toc-item-num\">1.2&nbsp;&nbsp;</span>Чтение данных</a></span></li><li><span><a href=\"#Описание-данных\" data-toc-modified-id=\"Описание-данных-1.3\"><span class=\"toc-item-num\">1.3&nbsp;&nbsp;</span>Описание данных</a></span></li><li><span><a href=\"#Изучение-общей-информации\" data-toc-modified-id=\"Изучение-общей-информации-1.4\"><span class=\"toc-item-num\">1.4&nbsp;&nbsp;</span>Изучение общей информации</a></span></li><li><span><a href=\"#Подготовка-данных\" data-toc-modified-id=\"Подготовка-данных-1.5\"><span class=\"toc-item-num\">1.5&nbsp;&nbsp;</span>Подготовка данных</a></span></li><li><span><a href=\"#Вывод\" data-toc-modified-id=\"Вывод-1.6\"><span class=\"toc-item-num\">1.6&nbsp;&nbsp;</span>Вывод</a></span></li></ul></li><li><span><a href=\"#Исследование-задачи\" data-toc-modified-id=\"Исследование-задачи-2\"><span class=\"toc-item-num\">2&nbsp;&nbsp;</span>Исследование задачи</a></span><ul class=\"toc-item\"><li><span><a href=\"#Посчитаем-факты-ухода-клиентов\" data-toc-modified-id=\"Посчитаем-факты-ухода-клиентов-2.1\"><span class=\"toc-item-num\">2.1&nbsp;&nbsp;</span>Посчитаем факты ухода клиентов</a></span></li><li><span><a href=\"#Подготовим-наши-данные-для-дальнейшего-исследования,-а-именно:\" data-toc-modified-id=\"Подготовим-наши-данные-для-дальнейшего-исследования,-а-именно:-2.2\"><span class=\"toc-item-num\">2.2&nbsp;&nbsp;</span>Подготовим наши данные для дальнейшего исследования, а именно:</a></span><ul class=\"toc-item\"><li><span><a href=\"#Проверим-уникальность-категоральных-значений-в-осташихся-столбцах\" data-toc-modified-id=\"Проверим-уникальность-категоральных-значений-в-осташихся-столбцах-2.2.1\"><span class=\"toc-item-num\">2.2.1&nbsp;&nbsp;</span>Проверим уникальность категоральных значений в осташихся столбцах</a></span></li></ul></li><li><span><a href=\"#Преобразуем-категориальные-признаки-в-численные-не-попав-в-дамми-ловушку.\" data-toc-modified-id=\"Преобразуем-категориальные-признаки-в-численные-не-попав-в-дамми-ловушку.-2.3\"><span class=\"toc-item-num\">2.3&nbsp;&nbsp;</span>Преобразуем категориальные признаки в численные не попав в дамми-ловушку.</a></span></li><li><span><a href=\"#Разделилим-исходные-данные-на-обучающую,-валидационную-и-тестовую-выборки-в-соотношении:-3:1:1.\" data-toc-modified-id=\"Разделилим-исходные-данные-на-обучающую,-валидационную-и-тестовую-выборки-в-соотношении:-3:1:1.-2.4\"><span class=\"toc-item-num\">2.4&nbsp;&nbsp;</span>Разделилим исходные данные на обучающую, валидационную и тестовую выборки в соотношении: 3:1:1.</a></span></li><li><span><a href=\"#Выполним-масштабирование-численных-признаков\" data-toc-modified-id=\"Выполним-масштабирование-численных-признаков-2.5\"><span class=\"toc-item-num\">2.5&nbsp;&nbsp;</span>Выполним масштабирование численных признаков</a></span></li><li><span><a href=\"#Изучение-моделей\" data-toc-modified-id=\"Изучение-моделей-2.6\"><span class=\"toc-item-num\">2.6&nbsp;&nbsp;</span>Изучение моделей</a></span><ul class=\"toc-item\"><li><span><a href=\"#Логистическая-регрессия\" data-toc-modified-id=\"Логистическая-регрессия-2.6.1\"><span class=\"toc-item-num\">2.6.1&nbsp;&nbsp;</span>Логистическая регрессия</a></span></li><li><span><a href=\"#Дерево-решений\" data-toc-modified-id=\"Дерево-решений-2.6.2\"><span class=\"toc-item-num\">2.6.2&nbsp;&nbsp;</span>Дерево решений</a></span></li><li><span><a href=\"#Случайный-лес\" data-toc-modified-id=\"Случайный-лес-2.6.3\"><span class=\"toc-item-num\">2.6.3&nbsp;&nbsp;</span>Случайный лес</a></span></li></ul></li><li><span><a href=\"#Вывод\" data-toc-modified-id=\"Вывод-2.7\"><span class=\"toc-item-num\">2.7&nbsp;&nbsp;</span>Вывод</a></span></li></ul></li><li><span><a href=\"#Борьба-с-дисбалансом\" data-toc-modified-id=\"Борьба-с-дисбалансом-3\"><span class=\"toc-item-num\">3&nbsp;&nbsp;</span>Борьба с дисбалансом</a></span><ul class=\"toc-item\"><li><span><a href=\"#Проверка-моделей-по-взвешиванию-классов\" data-toc-modified-id=\"Проверка-моделей-по-взвешиванию-классов-3.1\"><span class=\"toc-item-num\">3.1&nbsp;&nbsp;</span>Проверка моделей по взвешиванию классов</a></span><ul class=\"toc-item\"><li><span><a href=\"#Логистическая-регрессия\" data-toc-modified-id=\"Логистическая-регрессия-3.1.1\"><span class=\"toc-item-num\">3.1.1&nbsp;&nbsp;</span>Логистическая регрессия</a></span></li><li><span><a href=\"#Дерево-решений\" data-toc-modified-id=\"Дерево-решений-3.1.2\"><span class=\"toc-item-num\">3.1.2&nbsp;&nbsp;</span>Дерево решений</a></span></li><li><span><a href=\"#Случайный-лес\" data-toc-modified-id=\"Случайный-лес-3.1.3\"><span class=\"toc-item-num\">3.1.3&nbsp;&nbsp;</span>Случайный лес</a></span></li><li><span><a href=\"#Вывод\" data-toc-modified-id=\"Вывод-3.1.4\"><span class=\"toc-item-num\">3.1.4&nbsp;&nbsp;</span>Вывод</a></span></li></ul></li><li><span><a href=\"#Проверка-моделей-по-увеличению-выборки\" data-toc-modified-id=\"Проверка-моделей-по-увеличению-выборки-3.2\"><span class=\"toc-item-num\">3.2&nbsp;&nbsp;</span>Проверка моделей по увеличению выборки</a></span><ul class=\"toc-item\"><li><span><a href=\"#Логистическая-регрессия\" data-toc-modified-id=\"Логистическая-регрессия-3.2.1\"><span class=\"toc-item-num\">3.2.1&nbsp;&nbsp;</span>Логистическая регрессия</a></span></li><li><span><a href=\"#Дерево-решений\" data-toc-modified-id=\"Дерево-решений-3.2.2\"><span class=\"toc-item-num\">3.2.2&nbsp;&nbsp;</span>Дерево решений</a></span></li><li><span><a href=\"#Случайный-лес\" data-toc-modified-id=\"Случайный-лес-3.2.3\"><span class=\"toc-item-num\">3.2.3&nbsp;&nbsp;</span>Случайный лес</a></span></li><li><span><a href=\"#Вывод\" data-toc-modified-id=\"Вывод-3.2.4\"><span class=\"toc-item-num\">3.2.4&nbsp;&nbsp;</span>Вывод</a></span></li></ul></li><li><span><a href=\"#Проверка-моделей-по-уменьшению-выборки\" data-toc-modified-id=\"Проверка-моделей-по-уменьшению-выборки-3.3\"><span class=\"toc-item-num\">3.3&nbsp;&nbsp;</span>Проверка моделей по уменьшению выборки</a></span><ul class=\"toc-item\"><li><span><a href=\"#Логистическая-регрессия\" data-toc-modified-id=\"Логистическая-регрессия-3.3.1\"><span class=\"toc-item-num\">3.3.1&nbsp;&nbsp;</span>Логистическая регрессия</a></span></li><li><span><a href=\"#Дерево-решений\" data-toc-modified-id=\"Дерево-решений-3.3.2\"><span class=\"toc-item-num\">3.3.2&nbsp;&nbsp;</span>Дерево решений</a></span></li><li><span><a href=\"#Случайный-лес\" data-toc-modified-id=\"Случайный-лес-3.3.3\"><span class=\"toc-item-num\">3.3.3&nbsp;&nbsp;</span>Случайный лес</a></span></li><li><span><a href=\"#Вывод\" data-toc-modified-id=\"Вывод-3.3.4\"><span class=\"toc-item-num\">3.3.4&nbsp;&nbsp;</span>Вывод</a></span></li></ul></li><li><span><a href=\"#Вывод\" data-toc-modified-id=\"Вывод-3.4\"><span class=\"toc-item-num\">3.4&nbsp;&nbsp;</span>Вывод</a></span></li></ul></li><li><span><a href=\"#Тестирование-модели\" data-toc-modified-id=\"Тестирование-модели-4\"><span class=\"toc-item-num\">4&nbsp;&nbsp;</span>Тестирование модели</a></span><ul class=\"toc-item\"><li><ul class=\"toc-item\"><li><span><a href=\"#Исследуем-метрику-AUC-ROC-полученными-гиперпараметрами-с-наилучшими-результатами.\" data-toc-modified-id=\"Исследуем-метрику-AUC-ROC-полученными-гиперпараметрами-с-наилучшими-результатами.-4.0.1\"><span class=\"toc-item-num\">4.0.1&nbsp;&nbsp;</span>Исследуем метрику AUC-ROC полученными гиперпараметрами с наилучшими результатами.</a></span></li></ul></li><li><span><a href=\"#Вывод\" data-toc-modified-id=\"Вывод-4.1\"><span class=\"toc-item-num\">4.1&nbsp;&nbsp;</span>Вывод</a></span></li></ul></li><li><span><a href=\"#Чек-лист-готовности-проекта\" data-toc-modified-id=\"Чек-лист-готовности-проекта-5\"><span class=\"toc-item-num\">5&nbsp;&nbsp;</span>Чек-лист готовности проекта</a></span></li></ul></div>"
   ]
  },
  {
   "cell_type": "markdown",
   "metadata": {},
   "source": [
    "# Отток клиентов"
   ]
  },
  {
   "cell_type": "markdown",
   "metadata": {},
   "source": [
    "Из «Бета-Банка» стали уходить клиенты. Каждый месяц. Немного, но заметно. Банковские маркетологи посчитали: сохранять текущих клиентов дешевле, чем привлекать новых.\n",
    "\n",
    "Нужно спрогнозировать, уйдёт клиент из банка в ближайшее время или нет. Вам предоставлены исторические данные о поведении клиентов и расторжении договоров с банком. \n",
    "\n",
    "Постройте модель с предельно большим значением *F1*-меры. Чтобы сдать проект успешно, нужно довести метрику до 0.59. Проверьте *F1*-меру на тестовой выборке самостоятельно.\n",
    "\n",
    "Дополнительно измеряйте *AUC-ROC*, сравнивайте её значение с *F1*-мерой.\n",
    "\n",
    "Источник данных: [https://www.kaggle.com/barelydedicated/bank-customer-churn-modeling](https://www.kaggle.com/barelydedicated/bank-customer-churn-modeling)"
   ]
  },
  {
   "cell_type": "markdown",
   "metadata": {},
   "source": [
    "## Подготовка данных"
   ]
  },
  {
   "cell_type": "markdown",
   "metadata": {},
   "source": [
    "### Загрузка библиотек"
   ]
  },
  {
   "cell_type": "code",
   "execution_count": 1,
   "metadata": {},
   "outputs": [],
   "source": [
    "import pandas as pd\n",
    "import matplotlib.pyplot as plt\n",
    "from sklearn.model_selection import train_test_split\n",
    "from sklearn.preprocessing import StandardScaler\n",
    "from sklearn.linear_model import LogisticRegression\n",
    "from sklearn.tree import DecisionTreeClassifier\n",
    "from sklearn.ensemble import RandomForestClassifier\n",
    "from sklearn.metrics import f1_score\n",
    "from sklearn.utils import shuffle\n",
    "from sklearn.metrics import roc_auc_score\n",
    "from sklearn.metrics import roc_curve\n",
    "import warnings \n",
    "warnings.filterwarnings(\"ignore\")"
   ]
  },
  {
   "cell_type": "markdown",
   "metadata": {},
   "source": [
    "### Чтение данных"
   ]
  },
  {
   "cell_type": "code",
   "execution_count": 2,
   "metadata": {},
   "outputs": [
    {
     "data": {
      "text/html": [
       "<div>\n",
       "<style scoped>\n",
       "    .dataframe tbody tr th:only-of-type {\n",
       "        vertical-align: middle;\n",
       "    }\n",
       "\n",
       "    .dataframe tbody tr th {\n",
       "        vertical-align: top;\n",
       "    }\n",
       "\n",
       "    .dataframe thead th {\n",
       "        text-align: right;\n",
       "    }\n",
       "</style>\n",
       "<table border=\"1\" class=\"dataframe\">\n",
       "  <thead>\n",
       "    <tr style=\"text-align: right;\">\n",
       "      <th></th>\n",
       "      <th>RowNumber</th>\n",
       "      <th>CustomerId</th>\n",
       "      <th>Surname</th>\n",
       "      <th>CreditScore</th>\n",
       "      <th>Geography</th>\n",
       "      <th>Gender</th>\n",
       "      <th>Age</th>\n",
       "      <th>Tenure</th>\n",
       "      <th>Balance</th>\n",
       "      <th>NumOfProducts</th>\n",
       "      <th>HasCrCard</th>\n",
       "      <th>IsActiveMember</th>\n",
       "      <th>EstimatedSalary</th>\n",
       "      <th>Exited</th>\n",
       "    </tr>\n",
       "  </thead>\n",
       "  <tbody>\n",
       "    <tr>\n",
       "      <th>5708</th>\n",
       "      <td>5709</td>\n",
       "      <td>15626156</td>\n",
       "      <td>Galloway</td>\n",
       "      <td>655</td>\n",
       "      <td>France</td>\n",
       "      <td>Female</td>\n",
       "      <td>60</td>\n",
       "      <td>3.0</td>\n",
       "      <td>0.00</td>\n",
       "      <td>2</td>\n",
       "      <td>1</td>\n",
       "      <td>1</td>\n",
       "      <td>86981.45</td>\n",
       "      <td>0</td>\n",
       "    </tr>\n",
       "    <tr>\n",
       "      <th>7752</th>\n",
       "      <td>7753</td>\n",
       "      <td>15775307</td>\n",
       "      <td>Sung</td>\n",
       "      <td>490</td>\n",
       "      <td>Spain</td>\n",
       "      <td>Female</td>\n",
       "      <td>38</td>\n",
       "      <td>3.0</td>\n",
       "      <td>97266.10</td>\n",
       "      <td>1</td>\n",
       "      <td>1</td>\n",
       "      <td>1</td>\n",
       "      <td>92797.23</td>\n",
       "      <td>0</td>\n",
       "    </tr>\n",
       "    <tr>\n",
       "      <th>5532</th>\n",
       "      <td>5533</td>\n",
       "      <td>15602572</td>\n",
       "      <td>Hsing</td>\n",
       "      <td>720</td>\n",
       "      <td>France</td>\n",
       "      <td>Male</td>\n",
       "      <td>33</td>\n",
       "      <td>9.0</td>\n",
       "      <td>0.00</td>\n",
       "      <td>2</td>\n",
       "      <td>1</td>\n",
       "      <td>1</td>\n",
       "      <td>142956.48</td>\n",
       "      <td>0</td>\n",
       "    </tr>\n",
       "    <tr>\n",
       "      <th>3483</th>\n",
       "      <td>3484</td>\n",
       "      <td>15626412</td>\n",
       "      <td>Mort</td>\n",
       "      <td>499</td>\n",
       "      <td>Spain</td>\n",
       "      <td>Male</td>\n",
       "      <td>39</td>\n",
       "      <td>6.0</td>\n",
       "      <td>0.00</td>\n",
       "      <td>2</td>\n",
       "      <td>1</td>\n",
       "      <td>1</td>\n",
       "      <td>81409.00</td>\n",
       "      <td>0</td>\n",
       "    </tr>\n",
       "    <tr>\n",
       "      <th>2800</th>\n",
       "      <td>2801</td>\n",
       "      <td>15646817</td>\n",
       "      <td>Chiekwugo</td>\n",
       "      <td>769</td>\n",
       "      <td>France</td>\n",
       "      <td>Male</td>\n",
       "      <td>51</td>\n",
       "      <td>9.0</td>\n",
       "      <td>156773.78</td>\n",
       "      <td>2</td>\n",
       "      <td>1</td>\n",
       "      <td>0</td>\n",
       "      <td>40257.79</td>\n",
       "      <td>0</td>\n",
       "    </tr>\n",
       "    <tr>\n",
       "      <th>3884</th>\n",
       "      <td>3885</td>\n",
       "      <td>15735788</td>\n",
       "      <td>Chiagoziem</td>\n",
       "      <td>709</td>\n",
       "      <td>France</td>\n",
       "      <td>Male</td>\n",
       "      <td>31</td>\n",
       "      <td>6.0</td>\n",
       "      <td>0.00</td>\n",
       "      <td>2</td>\n",
       "      <td>1</td>\n",
       "      <td>1</td>\n",
       "      <td>71009.84</td>\n",
       "      <td>0</td>\n",
       "    </tr>\n",
       "    <tr>\n",
       "      <th>1658</th>\n",
       "      <td>1659</td>\n",
       "      <td>15654851</td>\n",
       "      <td>Obialo</td>\n",
       "      <td>748</td>\n",
       "      <td>France</td>\n",
       "      <td>Male</td>\n",
       "      <td>44</td>\n",
       "      <td>2.0</td>\n",
       "      <td>92911.52</td>\n",
       "      <td>1</td>\n",
       "      <td>0</td>\n",
       "      <td>1</td>\n",
       "      <td>85495.24</td>\n",
       "      <td>0</td>\n",
       "    </tr>\n",
       "    <tr>\n",
       "      <th>8055</th>\n",
       "      <td>8056</td>\n",
       "      <td>15659807</td>\n",
       "      <td>Nwachinemelu</td>\n",
       "      <td>657</td>\n",
       "      <td>Spain</td>\n",
       "      <td>Male</td>\n",
       "      <td>41</td>\n",
       "      <td>8.0</td>\n",
       "      <td>109402.13</td>\n",
       "      <td>1</td>\n",
       "      <td>1</td>\n",
       "      <td>1</td>\n",
       "      <td>66463.62</td>\n",
       "      <td>0</td>\n",
       "    </tr>\n",
       "    <tr>\n",
       "      <th>1641</th>\n",
       "      <td>1642</td>\n",
       "      <td>15754177</td>\n",
       "      <td>Bazarova</td>\n",
       "      <td>712</td>\n",
       "      <td>Spain</td>\n",
       "      <td>Male</td>\n",
       "      <td>53</td>\n",
       "      <td>2.0</td>\n",
       "      <td>111061.01</td>\n",
       "      <td>2</td>\n",
       "      <td>0</td>\n",
       "      <td>0</td>\n",
       "      <td>26542.17</td>\n",
       "      <td>0</td>\n",
       "    </tr>\n",
       "    <tr>\n",
       "      <th>1517</th>\n",
       "      <td>1518</td>\n",
       "      <td>15812071</td>\n",
       "      <td>Endrizzi</td>\n",
       "      <td>744</td>\n",
       "      <td>France</td>\n",
       "      <td>Male</td>\n",
       "      <td>54</td>\n",
       "      <td>6.0</td>\n",
       "      <td>93806.31</td>\n",
       "      <td>2</td>\n",
       "      <td>0</td>\n",
       "      <td>1</td>\n",
       "      <td>140068.77</td>\n",
       "      <td>0</td>\n",
       "    </tr>\n",
       "    <tr>\n",
       "      <th>1687</th>\n",
       "      <td>1688</td>\n",
       "      <td>15589348</td>\n",
       "      <td>Le Grand</td>\n",
       "      <td>850</td>\n",
       "      <td>Spain</td>\n",
       "      <td>Male</td>\n",
       "      <td>37</td>\n",
       "      <td>4.0</td>\n",
       "      <td>137204.77</td>\n",
       "      <td>1</td>\n",
       "      <td>1</td>\n",
       "      <td>1</td>\n",
       "      <td>28865.59</td>\n",
       "      <td>0</td>\n",
       "    </tr>\n",
       "    <tr>\n",
       "      <th>3696</th>\n",
       "      <td>3697</td>\n",
       "      <td>15633586</td>\n",
       "      <td>Brierly</td>\n",
       "      <td>595</td>\n",
       "      <td>France</td>\n",
       "      <td>Female</td>\n",
       "      <td>39</td>\n",
       "      <td>7.0</td>\n",
       "      <td>120962.13</td>\n",
       "      <td>1</td>\n",
       "      <td>0</td>\n",
       "      <td>0</td>\n",
       "      <td>23305.01</td>\n",
       "      <td>0</td>\n",
       "    </tr>\n",
       "    <tr>\n",
       "      <th>9755</th>\n",
       "      <td>9756</td>\n",
       "      <td>15804009</td>\n",
       "      <td>Amechi</td>\n",
       "      <td>806</td>\n",
       "      <td>Germany</td>\n",
       "      <td>Male</td>\n",
       "      <td>36</td>\n",
       "      <td>8.0</td>\n",
       "      <td>167983.17</td>\n",
       "      <td>2</td>\n",
       "      <td>1</td>\n",
       "      <td>1</td>\n",
       "      <td>106714.28</td>\n",
       "      <td>0</td>\n",
       "    </tr>\n",
       "    <tr>\n",
       "      <th>327</th>\n",
       "      <td>328</td>\n",
       "      <td>15736008</td>\n",
       "      <td>Hunter</td>\n",
       "      <td>644</td>\n",
       "      <td>France</td>\n",
       "      <td>Female</td>\n",
       "      <td>46</td>\n",
       "      <td>9.0</td>\n",
       "      <td>95441.27</td>\n",
       "      <td>1</td>\n",
       "      <td>1</td>\n",
       "      <td>0</td>\n",
       "      <td>108761.05</td>\n",
       "      <td>1</td>\n",
       "    </tr>\n",
       "    <tr>\n",
       "      <th>2599</th>\n",
       "      <td>2600</td>\n",
       "      <td>15704844</td>\n",
       "      <td>Hsiung</td>\n",
       "      <td>550</td>\n",
       "      <td>Spain</td>\n",
       "      <td>Male</td>\n",
       "      <td>62</td>\n",
       "      <td>7.0</td>\n",
       "      <td>80927.56</td>\n",
       "      <td>1</td>\n",
       "      <td>0</td>\n",
       "      <td>1</td>\n",
       "      <td>64490.67</td>\n",
       "      <td>0</td>\n",
       "    </tr>\n",
       "    <tr>\n",
       "      <th>6702</th>\n",
       "      <td>6703</td>\n",
       "      <td>15792668</td>\n",
       "      <td>Hamilton</td>\n",
       "      <td>661</td>\n",
       "      <td>Germany</td>\n",
       "      <td>Male</td>\n",
       "      <td>37</td>\n",
       "      <td>7.0</td>\n",
       "      <td>109908.06</td>\n",
       "      <td>2</td>\n",
       "      <td>1</td>\n",
       "      <td>0</td>\n",
       "      <td>115037.67</td>\n",
       "      <td>1</td>\n",
       "    </tr>\n",
       "    <tr>\n",
       "      <th>4732</th>\n",
       "      <td>4733</td>\n",
       "      <td>15653937</td>\n",
       "      <td>McIntyre</td>\n",
       "      <td>638</td>\n",
       "      <td>Germany</td>\n",
       "      <td>Female</td>\n",
       "      <td>53</td>\n",
       "      <td>1.0</td>\n",
       "      <td>123916.67</td>\n",
       "      <td>1</td>\n",
       "      <td>1</td>\n",
       "      <td>0</td>\n",
       "      <td>16657.68</td>\n",
       "      <td>1</td>\n",
       "    </tr>\n",
       "    <tr>\n",
       "      <th>33</th>\n",
       "      <td>34</td>\n",
       "      <td>15659428</td>\n",
       "      <td>Maggard</td>\n",
       "      <td>520</td>\n",
       "      <td>Spain</td>\n",
       "      <td>Female</td>\n",
       "      <td>42</td>\n",
       "      <td>6.0</td>\n",
       "      <td>0.00</td>\n",
       "      <td>2</td>\n",
       "      <td>1</td>\n",
       "      <td>1</td>\n",
       "      <td>34410.55</td>\n",
       "      <td>0</td>\n",
       "    </tr>\n",
       "    <tr>\n",
       "      <th>6190</th>\n",
       "      <td>6191</td>\n",
       "      <td>15613923</td>\n",
       "      <td>Reed</td>\n",
       "      <td>581</td>\n",
       "      <td>Spain</td>\n",
       "      <td>Female</td>\n",
       "      <td>43</td>\n",
       "      <td>4.0</td>\n",
       "      <td>170172.90</td>\n",
       "      <td>1</td>\n",
       "      <td>0</td>\n",
       "      <td>1</td>\n",
       "      <td>100236.02</td>\n",
       "      <td>0</td>\n",
       "    </tr>\n",
       "    <tr>\n",
       "      <th>5801</th>\n",
       "      <td>5802</td>\n",
       "      <td>15659800</td>\n",
       "      <td>Teng</td>\n",
       "      <td>584</td>\n",
       "      <td>Spain</td>\n",
       "      <td>Female</td>\n",
       "      <td>50</td>\n",
       "      <td>1.0</td>\n",
       "      <td>0.00</td>\n",
       "      <td>1</td>\n",
       "      <td>0</td>\n",
       "      <td>1</td>\n",
       "      <td>152567.75</td>\n",
       "      <td>1</td>\n",
       "    </tr>\n",
       "  </tbody>\n",
       "</table>\n",
       "</div>"
      ],
      "text/plain": [
       "      RowNumber  CustomerId       Surname  CreditScore Geography  Gender  Age  \\\n",
       "5708       5709    15626156      Galloway          655    France  Female   60   \n",
       "7752       7753    15775307          Sung          490     Spain  Female   38   \n",
       "5532       5533    15602572         Hsing          720    France    Male   33   \n",
       "3483       3484    15626412          Mort          499     Spain    Male   39   \n",
       "2800       2801    15646817     Chiekwugo          769    France    Male   51   \n",
       "3884       3885    15735788    Chiagoziem          709    France    Male   31   \n",
       "1658       1659    15654851        Obialo          748    France    Male   44   \n",
       "8055       8056    15659807  Nwachinemelu          657     Spain    Male   41   \n",
       "1641       1642    15754177      Bazarova          712     Spain    Male   53   \n",
       "1517       1518    15812071      Endrizzi          744    France    Male   54   \n",
       "1687       1688    15589348      Le Grand          850     Spain    Male   37   \n",
       "3696       3697    15633586       Brierly          595    France  Female   39   \n",
       "9755       9756    15804009        Amechi          806   Germany    Male   36   \n",
       "327         328    15736008        Hunter          644    France  Female   46   \n",
       "2599       2600    15704844        Hsiung          550     Spain    Male   62   \n",
       "6702       6703    15792668      Hamilton          661   Germany    Male   37   \n",
       "4732       4733    15653937      McIntyre          638   Germany  Female   53   \n",
       "33           34    15659428       Maggard          520     Spain  Female   42   \n",
       "6190       6191    15613923          Reed          581     Spain  Female   43   \n",
       "5801       5802    15659800          Teng          584     Spain  Female   50   \n",
       "\n",
       "      Tenure    Balance  NumOfProducts  HasCrCard  IsActiveMember  \\\n",
       "5708     3.0       0.00              2          1               1   \n",
       "7752     3.0   97266.10              1          1               1   \n",
       "5532     9.0       0.00              2          1               1   \n",
       "3483     6.0       0.00              2          1               1   \n",
       "2800     9.0  156773.78              2          1               0   \n",
       "3884     6.0       0.00              2          1               1   \n",
       "1658     2.0   92911.52              1          0               1   \n",
       "8055     8.0  109402.13              1          1               1   \n",
       "1641     2.0  111061.01              2          0               0   \n",
       "1517     6.0   93806.31              2          0               1   \n",
       "1687     4.0  137204.77              1          1               1   \n",
       "3696     7.0  120962.13              1          0               0   \n",
       "9755     8.0  167983.17              2          1               1   \n",
       "327      9.0   95441.27              1          1               0   \n",
       "2599     7.0   80927.56              1          0               1   \n",
       "6702     7.0  109908.06              2          1               0   \n",
       "4732     1.0  123916.67              1          1               0   \n",
       "33       6.0       0.00              2          1               1   \n",
       "6190     4.0  170172.90              1          0               1   \n",
       "5801     1.0       0.00              1          0               1   \n",
       "\n",
       "      EstimatedSalary  Exited  \n",
       "5708         86981.45       0  \n",
       "7752         92797.23       0  \n",
       "5532        142956.48       0  \n",
       "3483         81409.00       0  \n",
       "2800         40257.79       0  \n",
       "3884         71009.84       0  \n",
       "1658         85495.24       0  \n",
       "8055         66463.62       0  \n",
       "1641         26542.17       0  \n",
       "1517        140068.77       0  \n",
       "1687         28865.59       0  \n",
       "3696         23305.01       0  \n",
       "9755        106714.28       0  \n",
       "327         108761.05       1  \n",
       "2599         64490.67       0  \n",
       "6702        115037.67       1  \n",
       "4732         16657.68       1  \n",
       "33           34410.55       0  \n",
       "6190        100236.02       0  \n",
       "5801        152567.75       1  "
      ]
     },
     "execution_count": 2,
     "metadata": {},
     "output_type": "execute_result"
    }
   ],
   "source": [
    "data = pd.read_csv('https://code.s3.yandex.net/datasets/Churn.csv')\n",
    "# Взглянем на таблицу, чтобы понять с чем имеем дело.\n",
    "data.sample(20)"
   ]
  },
  {
   "cell_type": "markdown",
   "metadata": {},
   "source": [
    "### Описание данных\n",
    "Признаки\n",
    "- RowNumber — индекс строки в данных\n",
    "- CustomerId — уникальный идентификатор клиента\n",
    "- Surname — фамилия\n",
    "- CreditScore — кредитный рейтинг\n",
    "- Geography — страна проживания\n",
    "- Gender — пол\n",
    "- Age — возраст\n",
    "- Tenure — сколько лет человек является клиентом банка\n",
    "- Balance — баланс на счёте\n",
    "- NumOfProducts — количество продуктов банка, используемых клиентом \n",
    "- HasCrCard — наличие кредитной карты\n",
    "- IsActiveMember — активность клиента\n",
    "- EstimatedSalary — предполагаемая зарплата\n",
    "\n",
    "Целевой признак\n",
    "- Exited — факт ухода клиента"
   ]
  },
  {
   "cell_type": "markdown",
   "metadata": {},
   "source": [
    "### Изучение общей информации"
   ]
  },
  {
   "cell_type": "code",
   "execution_count": 3,
   "metadata": {},
   "outputs": [
    {
     "name": "stdout",
     "output_type": "stream",
     "text": [
      "<class 'pandas.core.frame.DataFrame'>\n",
      "RangeIndex: 10000 entries, 0 to 9999\n",
      "Data columns (total 14 columns):\n",
      " #   Column           Non-Null Count  Dtype  \n",
      "---  ------           --------------  -----  \n",
      " 0   RowNumber        10000 non-null  int64  \n",
      " 1   CustomerId       10000 non-null  int64  \n",
      " 2   Surname          10000 non-null  object \n",
      " 3   CreditScore      10000 non-null  int64  \n",
      " 4   Geography        10000 non-null  object \n",
      " 5   Gender           10000 non-null  object \n",
      " 6   Age              10000 non-null  int64  \n",
      " 7   Tenure           9091 non-null   float64\n",
      " 8   Balance          10000 non-null  float64\n",
      " 9   NumOfProducts    10000 non-null  int64  \n",
      " 10  HasCrCard        10000 non-null  int64  \n",
      " 11  IsActiveMember   10000 non-null  int64  \n",
      " 12  EstimatedSalary  10000 non-null  float64\n",
      " 13  Exited           10000 non-null  int64  \n",
      "dtypes: float64(3), int64(8), object(3)\n",
      "memory usage: 1.1+ MB\n"
     ]
    }
   ],
   "source": [
    "# Изучим общую информацию\n",
    "data.info()"
   ]
  },
  {
   "cell_type": "code",
   "execution_count": 4,
   "metadata": {},
   "outputs": [
    {
     "data": {
      "text/html": [
       "<div>\n",
       "<style scoped>\n",
       "    .dataframe tbody tr th:only-of-type {\n",
       "        vertical-align: middle;\n",
       "    }\n",
       "\n",
       "    .dataframe tbody tr th {\n",
       "        vertical-align: top;\n",
       "    }\n",
       "\n",
       "    .dataframe thead th {\n",
       "        text-align: right;\n",
       "    }\n",
       "</style>\n",
       "<table border=\"1\" class=\"dataframe\">\n",
       "  <thead>\n",
       "    <tr style=\"text-align: right;\">\n",
       "      <th></th>\n",
       "      <th>RowNumber</th>\n",
       "      <th>CustomerId</th>\n",
       "      <th>CreditScore</th>\n",
       "      <th>Age</th>\n",
       "      <th>Tenure</th>\n",
       "      <th>Balance</th>\n",
       "      <th>NumOfProducts</th>\n",
       "      <th>HasCrCard</th>\n",
       "      <th>IsActiveMember</th>\n",
       "      <th>EstimatedSalary</th>\n",
       "      <th>Exited</th>\n",
       "    </tr>\n",
       "  </thead>\n",
       "  <tbody>\n",
       "    <tr>\n",
       "      <th>count</th>\n",
       "      <td>10000.00000</td>\n",
       "      <td>1.000000e+04</td>\n",
       "      <td>10000.000000</td>\n",
       "      <td>10000.000000</td>\n",
       "      <td>9091.000000</td>\n",
       "      <td>10000.000000</td>\n",
       "      <td>10000.000000</td>\n",
       "      <td>10000.00000</td>\n",
       "      <td>10000.000000</td>\n",
       "      <td>10000.000000</td>\n",
       "      <td>10000.000000</td>\n",
       "    </tr>\n",
       "    <tr>\n",
       "      <th>mean</th>\n",
       "      <td>5000.50000</td>\n",
       "      <td>1.569094e+07</td>\n",
       "      <td>650.528800</td>\n",
       "      <td>38.921800</td>\n",
       "      <td>4.997690</td>\n",
       "      <td>76485.889288</td>\n",
       "      <td>1.530200</td>\n",
       "      <td>0.70550</td>\n",
       "      <td>0.515100</td>\n",
       "      <td>100090.239881</td>\n",
       "      <td>0.203700</td>\n",
       "    </tr>\n",
       "    <tr>\n",
       "      <th>std</th>\n",
       "      <td>2886.89568</td>\n",
       "      <td>7.193619e+04</td>\n",
       "      <td>96.653299</td>\n",
       "      <td>10.487806</td>\n",
       "      <td>2.894723</td>\n",
       "      <td>62397.405202</td>\n",
       "      <td>0.581654</td>\n",
       "      <td>0.45584</td>\n",
       "      <td>0.499797</td>\n",
       "      <td>57510.492818</td>\n",
       "      <td>0.402769</td>\n",
       "    </tr>\n",
       "    <tr>\n",
       "      <th>min</th>\n",
       "      <td>1.00000</td>\n",
       "      <td>1.556570e+07</td>\n",
       "      <td>350.000000</td>\n",
       "      <td>18.000000</td>\n",
       "      <td>0.000000</td>\n",
       "      <td>0.000000</td>\n",
       "      <td>1.000000</td>\n",
       "      <td>0.00000</td>\n",
       "      <td>0.000000</td>\n",
       "      <td>11.580000</td>\n",
       "      <td>0.000000</td>\n",
       "    </tr>\n",
       "    <tr>\n",
       "      <th>25%</th>\n",
       "      <td>2500.75000</td>\n",
       "      <td>1.562853e+07</td>\n",
       "      <td>584.000000</td>\n",
       "      <td>32.000000</td>\n",
       "      <td>2.000000</td>\n",
       "      <td>0.000000</td>\n",
       "      <td>1.000000</td>\n",
       "      <td>0.00000</td>\n",
       "      <td>0.000000</td>\n",
       "      <td>51002.110000</td>\n",
       "      <td>0.000000</td>\n",
       "    </tr>\n",
       "    <tr>\n",
       "      <th>50%</th>\n",
       "      <td>5000.50000</td>\n",
       "      <td>1.569074e+07</td>\n",
       "      <td>652.000000</td>\n",
       "      <td>37.000000</td>\n",
       "      <td>5.000000</td>\n",
       "      <td>97198.540000</td>\n",
       "      <td>1.000000</td>\n",
       "      <td>1.00000</td>\n",
       "      <td>1.000000</td>\n",
       "      <td>100193.915000</td>\n",
       "      <td>0.000000</td>\n",
       "    </tr>\n",
       "    <tr>\n",
       "      <th>75%</th>\n",
       "      <td>7500.25000</td>\n",
       "      <td>1.575323e+07</td>\n",
       "      <td>718.000000</td>\n",
       "      <td>44.000000</td>\n",
       "      <td>7.000000</td>\n",
       "      <td>127644.240000</td>\n",
       "      <td>2.000000</td>\n",
       "      <td>1.00000</td>\n",
       "      <td>1.000000</td>\n",
       "      <td>149388.247500</td>\n",
       "      <td>0.000000</td>\n",
       "    </tr>\n",
       "    <tr>\n",
       "      <th>max</th>\n",
       "      <td>10000.00000</td>\n",
       "      <td>1.581569e+07</td>\n",
       "      <td>850.000000</td>\n",
       "      <td>92.000000</td>\n",
       "      <td>10.000000</td>\n",
       "      <td>250898.090000</td>\n",
       "      <td>4.000000</td>\n",
       "      <td>1.00000</td>\n",
       "      <td>1.000000</td>\n",
       "      <td>199992.480000</td>\n",
       "      <td>1.000000</td>\n",
       "    </tr>\n",
       "  </tbody>\n",
       "</table>\n",
       "</div>"
      ],
      "text/plain": [
       "         RowNumber    CustomerId   CreditScore           Age       Tenure  \\\n",
       "count  10000.00000  1.000000e+04  10000.000000  10000.000000  9091.000000   \n",
       "mean    5000.50000  1.569094e+07    650.528800     38.921800     4.997690   \n",
       "std     2886.89568  7.193619e+04     96.653299     10.487806     2.894723   \n",
       "min        1.00000  1.556570e+07    350.000000     18.000000     0.000000   \n",
       "25%     2500.75000  1.562853e+07    584.000000     32.000000     2.000000   \n",
       "50%     5000.50000  1.569074e+07    652.000000     37.000000     5.000000   \n",
       "75%     7500.25000  1.575323e+07    718.000000     44.000000     7.000000   \n",
       "max    10000.00000  1.581569e+07    850.000000     92.000000    10.000000   \n",
       "\n",
       "             Balance  NumOfProducts    HasCrCard  IsActiveMember  \\\n",
       "count   10000.000000   10000.000000  10000.00000    10000.000000   \n",
       "mean    76485.889288       1.530200      0.70550        0.515100   \n",
       "std     62397.405202       0.581654      0.45584        0.499797   \n",
       "min         0.000000       1.000000      0.00000        0.000000   \n",
       "25%         0.000000       1.000000      0.00000        0.000000   \n",
       "50%     97198.540000       1.000000      1.00000        1.000000   \n",
       "75%    127644.240000       2.000000      1.00000        1.000000   \n",
       "max    250898.090000       4.000000      1.00000        1.000000   \n",
       "\n",
       "       EstimatedSalary        Exited  \n",
       "count     10000.000000  10000.000000  \n",
       "mean     100090.239881      0.203700  \n",
       "std       57510.492818      0.402769  \n",
       "min          11.580000      0.000000  \n",
       "25%       51002.110000      0.000000  \n",
       "50%      100193.915000      0.000000  \n",
       "75%      149388.247500      0.000000  \n",
       "max      199992.480000      1.000000  "
      ]
     },
     "execution_count": 4,
     "metadata": {},
     "output_type": "execute_result"
    }
   ],
   "source": [
    "data.describe()"
   ]
  },
  {
   "cell_type": "code",
   "execution_count": 5,
   "metadata": {},
   "outputs": [
    {
     "data": {
      "text/plain": [
       "array([ 2.,  1.,  8.,  7.,  4.,  6.,  3., 10.,  5.,  9.,  0., nan])"
      ]
     },
     "execution_count": 5,
     "metadata": {},
     "output_type": "execute_result"
    }
   ],
   "source": [
    "data['Tenure'].unique()"
   ]
  },
  {
   "cell_type": "markdown",
   "metadata": {},
   "source": [
    "Обнаружили следующее:\n",
    "- в столбце 'Tenure' — сколько лет человек является клиентом банка, присутствую пропущенные значения.\n",
    "- в столбце 'CustomerId' - уникальный идентификатор клиента, целочисленный тип данных заменим на строчный.\n",
    "Пропущенные значения в стобце 'Tenure' заменим на 0, так как предположим что раз значение пропущено, возможно клиент банка осбуживается меньше года, и так как все уникальные значения целочесленные изменим данные на целочисленное значение."
   ]
  },
  {
   "cell_type": "markdown",
   "metadata": {},
   "source": [
    "### Подготовка данных"
   ]
  },
  {
   "cell_type": "code",
   "execution_count": 6,
   "metadata": {},
   "outputs": [],
   "source": [
    "data['Tenure'] = data['Tenure'].fillna(0).astype(int)\n",
    "#Исправим тип данных в стоблце 'CustomerId'\n",
    "data['CustomerId'] = data['CustomerId'].astype(str)"
   ]
  },
  {
   "cell_type": "code",
   "execution_count": 7,
   "metadata": {},
   "outputs": [
    {
     "name": "stdout",
     "output_type": "stream",
     "text": [
      "<class 'pandas.core.frame.DataFrame'>\n",
      "RangeIndex: 10000 entries, 0 to 9999\n",
      "Data columns (total 14 columns):\n",
      " #   Column           Non-Null Count  Dtype  \n",
      "---  ------           --------------  -----  \n",
      " 0   RowNumber        10000 non-null  int64  \n",
      " 1   CustomerId       10000 non-null  object \n",
      " 2   Surname          10000 non-null  object \n",
      " 3   CreditScore      10000 non-null  int64  \n",
      " 4   Geography        10000 non-null  object \n",
      " 5   Gender           10000 non-null  object \n",
      " 6   Age              10000 non-null  int64  \n",
      " 7   Tenure           10000 non-null  int32  \n",
      " 8   Balance          10000 non-null  float64\n",
      " 9   NumOfProducts    10000 non-null  int64  \n",
      " 10  HasCrCard        10000 non-null  int64  \n",
      " 11  IsActiveMember   10000 non-null  int64  \n",
      " 12  EstimatedSalary  10000 non-null  float64\n",
      " 13  Exited           10000 non-null  int64  \n",
      "dtypes: float64(2), int32(1), int64(7), object(4)\n",
      "memory usage: 1.0+ MB\n"
     ]
    }
   ],
   "source": [
    "#Проверяем\n",
    "data.info()"
   ]
  },
  {
   "cell_type": "code",
   "execution_count": 8,
   "metadata": {},
   "outputs": [
    {
     "name": "stdout",
     "output_type": "stream",
     "text": [
      "Количество дубликатов: 0\n"
     ]
    }
   ],
   "source": [
    "# Посчитаем дубликаты\n",
    "print('Количество дубликатов:',data.duplicated().sum())"
   ]
  },
  {
   "cell_type": "markdown",
   "metadata": {},
   "source": [
    "### Вывод\n",
    "Импортировали библиотеки и изучили данные. После чтения информации о таблицах, мы выяснили, что у нас  присутствовали пропуски в  столбце 'Tenure' — сколько лет человек является клиентом банка. Теперь все данные заполнены и отсутствуют дубликаты. Также обнаружили несоответствие типов данных, которые мы и исправили."
   ]
  },
  {
   "cell_type": "markdown",
   "metadata": {},
   "source": [
    "## Исследование задачи"
   ]
  },
  {
   "cell_type": "markdown",
   "metadata": {},
   "source": [
    "### Посчитаем факты ухода клиентов"
   ]
  },
  {
   "cell_type": "code",
   "execution_count": 9,
   "metadata": {},
   "outputs": [
    {
     "name": "stdout",
     "output_type": "stream",
     "text": [
      "0    0.7963\n",
      "1    0.2037\n",
      "Name: Exited, dtype: float64\n"
     ]
    },
    {
     "data": {
      "text/plain": [
       "<AxesSubplot:>"
      ]
     },
     "execution_count": 9,
     "metadata": {},
     "output_type": "execute_result"
    },
    {
     "data": {
      "image/png": "[encoded data removed]",
      "text/plain": [
       "<Figure size 432x288 with 1 Axes>"
      ]
     },
     "metadata": {
      "needs_background": "light"
     },
     "output_type": "display_data"
    }
   ],
   "source": [
    "exited = data['Exited'].value_counts(normalize=True)\n",
    "print(exited)\n",
    "exited.plot(kind='bar')"
   ]
  },
  {
   "cell_type": "markdown",
   "metadata": {},
   "source": [
    "Уходит из банка 20% клиентов."
   ]
  },
  {
   "cell_type": "markdown",
   "metadata": {},
   "source": [
    "### Подготовим наши данные для дальнейшего исследования, а именно:\n",
    "- удалим следующие столбцы:\n",
    "    - RowNumber - номер строки, \n",
    "    - CustomerId - уникальный идентификатор клиента, \n",
    "    - Surname - фамилия клиента.\n",
    "Данные в этих столбцах не влияют на отток клиентов."
   ]
  },
  {
   "cell_type": "code",
   "execution_count": 10,
   "metadata": {},
   "outputs": [],
   "source": [
    "data = data.drop(['RowNumber', 'CustomerId', 'Surname'], axis=1)"
   ]
  },
  {
   "cell_type": "markdown",
   "metadata": {},
   "source": [
    "#### Проверим уникальность категоральных значений в осташихся столбцах"
   ]
  },
  {
   "cell_type": "code",
   "execution_count": 11,
   "metadata": {},
   "outputs": [
    {
     "data": {
      "text/plain": [
       "array(['France', 'Spain', 'Germany'], dtype=object)"
      ]
     },
     "execution_count": 11,
     "metadata": {},
     "output_type": "execute_result"
    }
   ],
   "source": [
    "data['Geography'].unique()"
   ]
  },
  {
   "cell_type": "code",
   "execution_count": 12,
   "metadata": {},
   "outputs": [
    {
     "data": {
      "text/plain": [
       "array(['Female', 'Male'], dtype=object)"
      ]
     },
     "execution_count": 12,
     "metadata": {},
     "output_type": "execute_result"
    }
   ],
   "source": [
    "data['Gender'].unique()"
   ]
  },
  {
   "cell_type": "markdown",
   "metadata": {},
   "source": [
    "### Преобразуем категориальные признаки в численные не попав в дамми-ловушку."
   ]
  },
  {
   "cell_type": "code",
   "execution_count": 13,
   "metadata": {},
   "outputs": [
    {
     "data": {
      "text/html": [
       "<div>\n",
       "<style scoped>\n",
       "    .dataframe tbody tr th:only-of-type {\n",
       "        vertical-align: middle;\n",
       "    }\n",
       "\n",
       "    .dataframe tbody tr th {\n",
       "        vertical-align: top;\n",
       "    }\n",
       "\n",
       "    .dataframe thead th {\n",
       "        text-align: right;\n",
       "    }\n",
       "</style>\n",
       "<table border=\"1\" class=\"dataframe\">\n",
       "  <thead>\n",
       "    <tr style=\"text-align: right;\">\n",
       "      <th></th>\n",
       "      <th>CreditScore</th>\n",
       "      <th>Age</th>\n",
       "      <th>Tenure</th>\n",
       "      <th>Balance</th>\n",
       "      <th>NumOfProducts</th>\n",
       "      <th>HasCrCard</th>\n",
       "      <th>IsActiveMember</th>\n",
       "      <th>EstimatedSalary</th>\n",
       "      <th>Exited</th>\n",
       "      <th>Geography_Germany</th>\n",
       "      <th>Geography_Spain</th>\n",
       "      <th>Gender_Male</th>\n",
       "    </tr>\n",
       "  </thead>\n",
       "  <tbody>\n",
       "    <tr>\n",
       "      <th>0</th>\n",
       "      <td>619</td>\n",
       "      <td>42</td>\n",
       "      <td>2</td>\n",
       "      <td>0.00</td>\n",
       "      <td>1</td>\n",
       "      <td>1</td>\n",
       "      <td>1</td>\n",
       "      <td>101348.88</td>\n",
       "      <td>1</td>\n",
       "      <td>0</td>\n",
       "      <td>0</td>\n",
       "      <td>0</td>\n",
       "    </tr>\n",
       "    <tr>\n",
       "      <th>1</th>\n",
       "      <td>608</td>\n",
       "      <td>41</td>\n",
       "      <td>1</td>\n",
       "      <td>83807.86</td>\n",
       "      <td>1</td>\n",
       "      <td>0</td>\n",
       "      <td>1</td>\n",
       "      <td>112542.58</td>\n",
       "      <td>0</td>\n",
       "      <td>0</td>\n",
       "      <td>1</td>\n",
       "      <td>0</td>\n",
       "    </tr>\n",
       "    <tr>\n",
       "      <th>2</th>\n",
       "      <td>502</td>\n",
       "      <td>42</td>\n",
       "      <td>8</td>\n",
       "      <td>159660.80</td>\n",
       "      <td>3</td>\n",
       "      <td>1</td>\n",
       "      <td>0</td>\n",
       "      <td>113931.57</td>\n",
       "      <td>1</td>\n",
       "      <td>0</td>\n",
       "      <td>0</td>\n",
       "      <td>0</td>\n",
       "    </tr>\n",
       "    <tr>\n",
       "      <th>3</th>\n",
       "      <td>699</td>\n",
       "      <td>39</td>\n",
       "      <td>1</td>\n",
       "      <td>0.00</td>\n",
       "      <td>2</td>\n",
       "      <td>0</td>\n",
       "      <td>0</td>\n",
       "      <td>93826.63</td>\n",
       "      <td>0</td>\n",
       "      <td>0</td>\n",
       "      <td>0</td>\n",
       "      <td>0</td>\n",
       "    </tr>\n",
       "    <tr>\n",
       "      <th>4</th>\n",
       "      <td>850</td>\n",
       "      <td>43</td>\n",
       "      <td>2</td>\n",
       "      <td>125510.82</td>\n",
       "      <td>1</td>\n",
       "      <td>1</td>\n",
       "      <td>1</td>\n",
       "      <td>79084.10</td>\n",
       "      <td>0</td>\n",
       "      <td>0</td>\n",
       "      <td>1</td>\n",
       "      <td>0</td>\n",
       "    </tr>\n",
       "    <tr>\n",
       "      <th>...</th>\n",
       "      <td>...</td>\n",
       "      <td>...</td>\n",
       "      <td>...</td>\n",
       "      <td>...</td>\n",
       "      <td>...</td>\n",
       "      <td>...</td>\n",
       "      <td>...</td>\n",
       "      <td>...</td>\n",
       "      <td>...</td>\n",
       "      <td>...</td>\n",
       "      <td>...</td>\n",
       "      <td>...</td>\n",
       "    </tr>\n",
       "    <tr>\n",
       "      <th>9995</th>\n",
       "      <td>771</td>\n",
       "      <td>39</td>\n",
       "      <td>5</td>\n",
       "      <td>0.00</td>\n",
       "      <td>2</td>\n",
       "      <td>1</td>\n",
       "      <td>0</td>\n",
       "      <td>96270.64</td>\n",
       "      <td>0</td>\n",
       "      <td>0</td>\n",
       "      <td>0</td>\n",
       "      <td>1</td>\n",
       "    </tr>\n",
       "    <tr>\n",
       "      <th>9996</th>\n",
       "      <td>516</td>\n",
       "      <td>35</td>\n",
       "      <td>10</td>\n",
       "      <td>57369.61</td>\n",
       "      <td>1</td>\n",
       "      <td>1</td>\n",
       "      <td>1</td>\n",
       "      <td>101699.77</td>\n",
       "      <td>0</td>\n",
       "      <td>0</td>\n",
       "      <td>0</td>\n",
       "      <td>1</td>\n",
       "    </tr>\n",
       "    <tr>\n",
       "      <th>9997</th>\n",
       "      <td>709</td>\n",
       "      <td>36</td>\n",
       "      <td>7</td>\n",
       "      <td>0.00</td>\n",
       "      <td>1</td>\n",
       "      <td>0</td>\n",
       "      <td>1</td>\n",
       "      <td>42085.58</td>\n",
       "      <td>1</td>\n",
       "      <td>0</td>\n",
       "      <td>0</td>\n",
       "      <td>0</td>\n",
       "    </tr>\n",
       "    <tr>\n",
       "      <th>9998</th>\n",
       "      <td>772</td>\n",
       "      <td>42</td>\n",
       "      <td>3</td>\n",
       "      <td>75075.31</td>\n",
       "      <td>2</td>\n",
       "      <td>1</td>\n",
       "      <td>0</td>\n",
       "      <td>92888.52</td>\n",
       "      <td>1</td>\n",
       "      <td>1</td>\n",
       "      <td>0</td>\n",
       "      <td>1</td>\n",
       "    </tr>\n",
       "    <tr>\n",
       "      <th>9999</th>\n",
       "      <td>792</td>\n",
       "      <td>28</td>\n",
       "      <td>0</td>\n",
       "      <td>130142.79</td>\n",
       "      <td>1</td>\n",
       "      <td>1</td>\n",
       "      <td>0</td>\n",
       "      <td>38190.78</td>\n",
       "      <td>0</td>\n",
       "      <td>0</td>\n",
       "      <td>0</td>\n",
       "      <td>0</td>\n",
       "    </tr>\n",
       "  </tbody>\n",
       "</table>\n",
       "<p>10000 rows × 12 columns</p>\n",
       "</div>"
      ],
      "text/plain": [
       "      CreditScore  Age  Tenure    Balance  NumOfProducts  HasCrCard  \\\n",
       "0             619   42       2       0.00              1          1   \n",
       "1             608   41       1   83807.86              1          0   \n",
       "2             502   42       8  159660.80              3          1   \n",
       "3             699   39       1       0.00              2          0   \n",
       "4             850   43       2  125510.82              1          1   \n",
       "...           ...  ...     ...        ...            ...        ...   \n",
       "9995          771   39       5       0.00              2          1   \n",
       "9996          516   35      10   57369.61              1          1   \n",
       "9997          709   36       7       0.00              1          0   \n",
       "9998          772   42       3   75075.31              2          1   \n",
       "9999          792   28       0  130142.79              1          1   \n",
       "\n",
       "      IsActiveMember  EstimatedSalary  Exited  Geography_Germany  \\\n",
       "0                  1        101348.88       1                  0   \n",
       "1                  1        112542.58       0                  0   \n",
       "2                  0        113931.57       1                  0   \n",
       "3                  0         93826.63       0                  0   \n",
       "4                  1         79084.10       0                  0   \n",
       "...              ...              ...     ...                ...   \n",
       "9995               0         96270.64       0                  0   \n",
       "9996               1        101699.77       0                  0   \n",
       "9997               1         42085.58       1                  0   \n",
       "9998               0         92888.52       1                  1   \n",
       "9999               0         38190.78       0                  0   \n",
       "\n",
       "      Geography_Spain  Gender_Male  \n",
       "0                   0            0  \n",
       "1                   1            0  \n",
       "2                   0            0  \n",
       "3                   0            0  \n",
       "4                   1            0  \n",
       "...               ...          ...  \n",
       "9995                0            1  \n",
       "9996                0            1  \n",
       "9997                0            0  \n",
       "9998                0            1  \n",
       "9999                0            0  \n",
       "\n",
       "[10000 rows x 12 columns]"
      ]
     },
     "execution_count": 13,
     "metadata": {},
     "output_type": "execute_result"
    }
   ],
   "source": [
    "data_ohe = pd.get_dummies(data, drop_first=True)\n",
    "data_ohe"
   ]
  },
  {
   "cell_type": "markdown",
   "metadata": {},
   "source": [
    "### Разделилим исходные данные на обучающую, валидационную и тестовую выборки в соотношении: 3:1:1."
   ]
  },
  {
   "cell_type": "code",
   "execution_count": 14,
   "metadata": {},
   "outputs": [
    {
     "name": "stdout",
     "output_type": "stream",
     "text": [
      "Обучающая выборка: (6000, 11) (6000,)\n",
      "Валидационная выборка: (2000, 11) (2000,)\n",
      "Тестовая выборка: (2000, 11) (2000,)\n"
     ]
    }
   ],
   "source": [
    "target = data_ohe['Exited']\n",
    "features = data_ohe.drop('Exited', axis=1)\n",
    "features_train, features_testing, target_train, target_testing = train_test_split(\n",
    "    features, target, stratify=target, test_size=0.4, random_state=12345)\n",
    "features_test, features_valid, target_test, target_valid = train_test_split(\n",
    "    features_testing, target_testing, stratify=target_testing, test_size=0.5, random_state=12345)\n",
    "print('Обучающая выборка:', features_train.shape, target_train.shape )\n",
    "print('Валидационная выборка:', features_valid.shape, target_valid.shape)\n",
    "print('Тестовая выборка:', features_test.shape, target_test.shape)"
   ]
  },
  {
   "cell_type": "markdown",
   "metadata": {},
   "source": [
    "### Выполним масштабирование численных признаков"
   ]
  },
  {
   "cell_type": "code",
   "execution_count": 15,
   "metadata": {},
   "outputs": [],
   "source": [
    "numeric=['CreditScore', 'Age', 'Tenure', 'Balance', 'NumOfProducts', 'HasCrCard', \n",
    "         'IsActiveMember', 'EstimatedSalary', 'Geography_Germany', 'Geography_Spain', 'Gender_Male']\n",
    "scaler=StandardScaler()\n",
    "scaler.fit(features_train[numeric])\n",
    "features_train[numeric]=scaler.transform(features_train[numeric])\n",
    "features_valid[numeric]=scaler.transform(features_valid[numeric])\n",
    "features_test[numeric]=scaler.transform(features_test[numeric])"
   ]
  },
  {
   "cell_type": "markdown",
   "metadata": {},
   "source": [
    "### Изучение моделей"
   ]
  },
  {
   "cell_type": "markdown",
   "metadata": {},
   "source": [
    "#### Логистическая регрессия"
   ]
  },
  {
   "cell_type": "code",
   "execution_count": 16,
   "metadata": {
    "scrolled": true
   },
   "outputs": [
    {
     "name": "stdout",
     "output_type": "stream",
     "text": [
      "Наилучший показатель F-1 меры на валидационной выборке: 0.2900188323917138\n",
      "AUC-ROC показатель на валидационной выборке: 0.7503127164144114\n"
     ]
    }
   ],
   "source": [
    "#model_logistic = LogisticRegression(random_state=12345)\n",
    "#model_logistic.fit(features_train, target_train) \n",
    "#predicted_valid = model_logistic.predict(features_valid) \n",
    "#result = f1_score(target_valid, predicted_valid)\n",
    "#probabilities_valid = model_logistic.predict_proba(features_valid)\n",
    "#probabilities_one_valid = probabilities_valid[:, 1]\n",
    "#auc_roc = roc_auc_score(target_valid, probabilities_one_valid)\n",
    "#print(\"Наилучший показатель F-1 меры на валидационной выборке:\", result)\n",
    "#print(\"AUC-ROC показатель на валидационной выборке:\", auc_roc)"
   ]
  },
  {
   "cell_type": "markdown",
   "metadata": {},
   "source": [
    "#### Дерево решений"
   ]
  },
  {
   "cell_type": "code",
   "execution_count": 17,
   "metadata": {},
   "outputs": [
    {
     "name": "stdout",
     "output_type": "stream",
     "text": [
      "Наилучший показатель F-1 меры на валидационной выборке: 0.5533834586466165 Глубина дерева: 7\n",
      "AUC-ROC показатель на валидационной выборке: 0.8111416501247009\n"
     ]
    }
   ],
   "source": [
    "#best_model = None\n",
    "#best_result = 0\n",
    "#best_depth = 0\n",
    "#best_auc_roc = 0\n",
    "#for depth in range(1, 20, 1):\n",
    "    #model = DecisionTreeClassifier(random_state=12345, max_depth=depth)\n",
    "    #model.fit(features_train, target_train)\n",
    "    #predictions_valid = model.predict(features_valid)\n",
    "    #probabilities_valid = model.predict_proba(features_valid)\n",
    "    #probabilities_one_valid = probabilities_valid[:, 1]\n",
    "    #result = f1_score(target_valid, predictions_valid)\n",
    "    #auc_roc_result = roc_auc_score(target_valid, probabilities_one_valid)\n",
    "    #if result > best_result:\n",
    "        #best_model = model\n",
    "        #best_result = result\n",
    "        #best_depth = depth\n",
    "        #best_auc_roc = auc_roc_result\n",
    "#print(\"Наилучший показатель F-1 меры на валидационной выборке:\", best_result, \"Глубина дерева:\", best_depth)\n",
    "#print(\"AUC-ROC показатель на валидационной выборке:\", best_auc_roc)"
   ]
  },
  {
   "cell_type": "markdown",
   "metadata": {},
   "source": [
    "#### Случайный лес"
   ]
  },
  {
   "cell_type": "code",
   "execution_count": 18,
   "metadata": {},
   "outputs": [
    {
     "name": "stdout",
     "output_type": "stream",
     "text": [
      "Наилучший показатель F-1 меры на валидационной выборке: 0.5607476635514019 Количество деревьев: 1 Максимальная глубина: 15\n",
      "AUC-ROC показатель на валидационной выборке: 0.7534984907866265\n"
     ]
    }
   ],
   "source": [
    "best_model = None\n",
    "best_result = 0\n",
    "best_est = 0\n",
    "best_depth = 0\n",
    "best_auc_roc = 0\n",
    "for est in range(1, 51, 1):\n",
    "    for depth in range (1, 16, 1):\n",
    "        model_forest = RandomForestClassifier(random_state=12345, n_estimators=est, max_depth=depth)\n",
    "        model_forest.fit(features_train, target_train) \n",
    "        predictions_forest = model_forest.predict(features_valid) \n",
    "        result = f1_score(target_valid, predictions_forest)\n",
    "        probabilities_valid = model_forest.predict_proba(features_valid)\n",
    "        probabilities_one_valid = probabilities_valid[:, 1]\n",
    "        auc_roc_result = roc_auc_score(target_valid, probabilities_one_valid)\n",
    "        if result > best_result:\n",
    "            best_model_forest = model_forest\n",
    "            best_result = result\n",
    "            best_est = est\n",
    "            best_depth = depth\n",
    "            best_auc_roc = auc_roc_result\n",
    "print(\"Наилучший показатель F-1 меры на валидационной выборке:\", best_result, \"Количество деревьев:\", best_est, \"Максимальная глубина:\", depth)\n",
    "print(\"AUC-ROC показатель на валидационной выборке:\", best_auc_roc)"
   ]
  },
  {
   "cell_type": "markdown",
   "metadata": {},
   "source": [
    "### Вывод\n",
    "Наилучший показатель F-1 и AUC-ROC меры равны 0.5607476635514019 и 0.7534984907866265 соответственно из изученных трех моделей показал случайный лес со следующими параметрами: Количество деревьев: 1, Максимальная глубина: 15."
   ]
  },
  {
   "cell_type": "markdown",
   "metadata": {},
   "source": [
    "## Борьба с дисбалансом"
   ]
  },
  {
   "cell_type": "markdown",
   "metadata": {},
   "source": [
    "### Проверка моделей по взвешиванию классов"
   ]
  },
  {
   "cell_type": "markdown",
   "metadata": {},
   "source": [
    "#### Логистическая регрессия"
   ]
  },
  {
   "cell_type": "code",
   "execution_count": 19,
   "metadata": {},
   "outputs": [
    {
     "name": "stdout",
     "output_type": "stream",
     "text": [
      "Наилучший показатель F-1 меры на валидационной выборке: 0.4765217391304348\n",
      "AUC-ROC показатель на валидационной выборке: 0.7540576015152285\n"
     ]
    }
   ],
   "source": [
    "#model_logistic = LogisticRegression(random_state=12345, class_weight='balanced')\n",
    "#model_logistic.fit(features_train, target_train) \n",
    "#predicted_valid = model_logistic.predict(features_valid) \n",
    "#result = f1_score(target_valid, predicted_valid)\n",
    "#probabilities_valid = model_logistic.predict_proba(features_valid)\n",
    "#probabilities_one_valid = probabilities_valid[:, 1]\n",
    "#auc_roc = roc_auc_score(target_valid, probabilities_one_valid)\n",
    "#print(\"Наилучший показатель F-1 меры на валидационной выборке:\", result)\n",
    "#print(\"AUC-ROC показатель на валидационной выборке:\", auc_roc)"
   ]
  },
  {
   "cell_type": "markdown",
   "metadata": {},
   "source": [
    "#### Дерево решений"
   ]
  },
  {
   "cell_type": "code",
   "execution_count": 20,
   "metadata": {},
   "outputs": [
    {
     "name": "stdout",
     "output_type": "stream",
     "text": [
      "Наилучший показатель F-1 меры на валидационной выборке: 0.5457875457875457 Глубина дерева: 7\n",
      "AUC-ROC показатель на валидационной выборке: 0.7907437483708668\n"
     ]
    }
   ],
   "source": [
    "#best_model = None\n",
    "#best_result = 0\n",
    "#best_depth = 0\n",
    "#best_auc_roc = 0\n",
    "#for depth in range(1, 16, 1):\n",
    "    #model = DecisionTreeClassifier(random_state=12345, max_depth=depth, class_weight='balanced')\n",
    "    #model.fit(features_train, target_train)\n",
    "    #predictions_valid = model.predict(features_valid)\n",
    "    #probabilities_valid = model.predict_proba(features_valid)\n",
    "    #probabilities_one_valid = probabilities_valid[:, 1]\n",
    "    #result = f1_score(target_valid, predictions_valid)\n",
    "    #auc_roc_result = roc_auc_score(target_valid, probabilities_one_valid)\n",
    "    #if result > best_result:\n",
    "        #best_model = model\n",
    "        #best_result = result\n",
    "        #best_depth = depth\n",
    "        #best_auc_roc = auc_roc_result\n",
    "#print(\"Наилучший показатель F-1 меры на валидационной выборке:\", best_result, \"Глубина дерева:\", best_depth)\n",
    "#print(\"AUC-ROC показатель на валидационной выборке:\", best_auc_roc)"
   ]
  },
  {
   "cell_type": "markdown",
   "metadata": {},
   "source": [
    "#### Случайный лес"
   ]
  },
  {
   "cell_type": "code",
   "execution_count": 21,
   "metadata": {},
   "outputs": [
    {
     "name": "stdout",
     "output_type": "stream",
     "text": [
      "Наилучший показатель F-1 меры на валидационной выборке: 0.6146892655367232 Количество деревьев: 26 Максимальная глубина: 15\n",
      "AUC-ROC показатель на валидационной выборке: 0.8458365915993036\n"
     ]
    }
   ],
   "source": [
    "best_model = None\n",
    "best_result = 0\n",
    "best_est = 0\n",
    "best_depth = 0\n",
    "best_auc_roc = 0\n",
    "for est in range(1, 51, 1):\n",
    "    for depth in range (1, 16, 1):\n",
    "        model_forest = RandomForestClassifier(random_state=12345, n_estimators=est, max_depth=depth, \n",
    "                                              class_weight='balanced')\n",
    "        model_forest.fit(features_train, target_train) \n",
    "        predictions_forest = model_forest.predict(features_valid) \n",
    "        result = f1_score(target_valid, predictions_forest)\n",
    "        probabilities_valid = model_forest.predict_proba(features_valid)\n",
    "        probabilities_one_valid = probabilities_valid[:, 1]\n",
    "        auc_roc_result = roc_auc_score(target_valid, probabilities_one_valid)\n",
    "        if result > best_result:\n",
    "            best_model_forest = model_forest\n",
    "            best_result = result\n",
    "            best_est = est\n",
    "            best_depth = depth\n",
    "            best_auc_roc = auc_roc_result\n",
    "print(\"Наилучший показатель F-1 меры на валидационной выборке:\", best_result, \"Количество деревьев:\", best_est, \"Максимальная глубина:\", depth)\n",
    "print(\"AUC-ROC показатель на валидационной выборке:\", best_auc_roc)"
   ]
  },
  {
   "cell_type": "markdown",
   "metadata": {},
   "source": [
    "#### Вывод\n",
    "Проверка по взешиванию классов показала следующие наилучшие результаты показателей F-1 и AUC-ROC соответственно:\n",
    " - Логистическая регрессия = 0.476 и 0.754\n",
    " - Дерево решений, Глубина дерева: 7  = 0.546 и 0.791\n",
    " - Случайный лес, Количество деревьев: 26, Максимальная глубина: 15 = 0.615 и 0.845.\n"
   ]
  },
  {
   "cell_type": "markdown",
   "metadata": {},
   "source": [
    "### Проверка моделей по увеличению выборки"
   ]
  },
  {
   "cell_type": "code",
   "execution_count": 22,
   "metadata": {},
   "outputs": [],
   "source": [
    "def upsample(features, target, repeat):\n",
    "    features_zeros = features[target == 0]\n",
    "    features_ones = features[target == 1]\n",
    "    target_zeros = target[target == 0]\n",
    "    target_ones = target[target == 1]\n",
    "\n",
    "    features_upsampled = pd.concat([features_zeros] + [features_ones] * repeat)\n",
    "    target_upsampled = pd.concat([target_zeros] + [target_ones] * repeat)\n",
    "    \n",
    "    features_upsampled, target_upsampled = shuffle(\n",
    "        features_upsampled, target_upsampled, random_state=12345)\n",
    "    \n",
    "    return features_upsampled, target_upsampled\n",
    "\n",
    "features_upsampled, target_upsampled = upsample(features_train, target_train, 4)"
   ]
  },
  {
   "cell_type": "markdown",
   "metadata": {},
   "source": [
    "#### Логистическая регрессия"
   ]
  },
  {
   "cell_type": "code",
   "execution_count": 23,
   "metadata": {},
   "outputs": [
    {
     "name": "stdout",
     "output_type": "stream",
     "text": [
      "Наилучший показатель F-1 меры на валидационной выборке: 0.4790419161676646\n",
      "AUC-ROC показатель на валидационной выборке: 0.7541362626108389\n"
     ]
    }
   ],
   "source": [
    "#model_logistic = LogisticRegression(random_state=12345, solver='liblinear')\n",
    "#model_logistic.fit(features_upsampled, target_upsampled)\n",
    "#predicted_valid = model_logistic.predict(features_valid)\n",
    "#result = f1_score(target_valid, predicted_valid)\n",
    "#probabilities_valid = model_logistic.predict_proba(features_valid)\n",
    "#probabilities_one_valid = probabilities_valid[:, 1]\n",
    "#auc_roc = roc_auc_score(target_valid, probabilities_one_valid)\n",
    "#print(\"Наилучший показатель F-1 меры на валидационной выборке:\", result)\n",
    "#print(\"AUC-ROC показатель на валидационной выборке:\", auc_roc)"
   ]
  },
  {
   "cell_type": "markdown",
   "metadata": {},
   "source": [
    "#### Дерево решений"
   ]
  },
  {
   "cell_type": "code",
   "execution_count": 24,
   "metadata": {},
   "outputs": [
    {
     "name": "stdout",
     "output_type": "stream",
     "text": [
      "Наилучший показатель F-1 меры на валидационной выборке: 0.5462878093492209 Глубина дерева: 7\n",
      "AUC-ROC показатель на валидационной выборке: 0.7913159692820709\n"
     ]
    }
   ],
   "source": [
    "#best_model = None\n",
    "#best_result = 0\n",
    "#best_depth = 0\n",
    "#best_auc_roc = 0\n",
    "#for depth in range(1, 16, 1):\n",
    "    #model = DecisionTreeClassifier(random_state=12345, max_depth=depth)\n",
    "    #model.fit(features_upsampled, target_upsampled)\n",
    "    #predictions_valid = model.predict(features_valid)\n",
    "    #probabilities_valid = model.predict_proba(features_valid)\n",
    "    #probabilities_one_valid = probabilities_valid[:, 1]\n",
    "    #result = f1_score(target_valid, predictions_valid)\n",
    "    #auc_roc_result = roc_auc_score(target_valid, probabilities_one_valid)\n",
    "    #if result > best_result:\n",
    "        #best_model = model\n",
    "        #best_result = result\n",
    "        #best_depth = depth\n",
    "        #best_auc_roc = auc_roc_result\n",
    "#print(\"Наилучший показатель F-1 меры на валидационной выборке:\", best_result, \"Глубина дерева:\", best_depth)\n",
    "#print(\"AUC-ROC показатель на валидационной выборке:\", best_auc_roc)"
   ]
  },
  {
   "cell_type": "markdown",
   "metadata": {},
   "source": [
    "#### Случайный лес"
   ]
  },
  {
   "cell_type": "code",
   "execution_count": 25,
   "metadata": {},
   "outputs": [
    {
     "name": "stdout",
     "output_type": "stream",
     "text": [
      "Наилучший показатель F-1 меры на валидационной выборке: 0.6186895810955961 Количество деревьев: 28 Максимальная глубина: 15\n",
      "AUC-ROC показатель на валидационной выборке: 0.8564481276345682\n"
     ]
    }
   ],
   "source": [
    "best_model = None\n",
    "best_result = 0\n",
    "best_est = 0\n",
    "best_depth = 0\n",
    "best_auc_roc = 0\n",
    "for est in range(1, 51, 1):\n",
    "    for depth in range (1, 16, 1):\n",
    "        model_forest = RandomForestClassifier(random_state=12345, n_estimators=est, max_depth=depth)\n",
    "        model_forest.fit(features_upsampled, target_upsampled)\n",
    "        predictions_forest = model_forest.predict(features_valid)\n",
    "        result = f1_score(target_valid, predictions_forest)\n",
    "        probabilities_valid = model_forest.predict_proba(features_valid)\n",
    "        probabilities_one_valid = probabilities_valid[:, 1]\n",
    "        auc_roc_result = roc_auc_score(target_valid, probabilities_one_valid)\n",
    "        if result > best_result:\n",
    "            best_model_forest = model_forest\n",
    "            best_result = result\n",
    "            best_est = est\n",
    "            best_depth = depth\n",
    "            best_auc_roc = auc_roc_result\n",
    "print(\"Наилучший показатель F-1 меры на валидационной выборке:\", best_result, \"Количество деревьев:\", best_est, \"Максимальная глубина:\", depth)\n",
    "print(\"AUC-ROC показатель на валидационной выборке:\", best_auc_roc)"
   ]
  },
  {
   "cell_type": "markdown",
   "metadata": {},
   "source": [
    "#### Вывод\n",
    "Проверка по увеличению выборки показала следующие наилучшие результаты показателей F-1 и AUC-ROC соответственно:\n",
    " - Логистическая регрессия = 0.479 и 0.754\n",
    " - Дерево решений, Глубина дерева: 7  = 0.546 и 0.791\n",
    " - Случайный лес, Количество деревьев: 28, Максимальная глубина: 15 = 0.619 и 0.856."
   ]
  },
  {
   "cell_type": "markdown",
   "metadata": {},
   "source": [
    "### Проверка моделей по уменьшению выборки"
   ]
  },
  {
   "cell_type": "code",
   "execution_count": 26,
   "metadata": {},
   "outputs": [],
   "source": [
    "def downsample(features, target, fraction):\n",
    "    features_zeros = features[target == 0]\n",
    "    features_ones = features[target == 1]\n",
    "    target_zeros = target[target == 0]\n",
    "    target_ones = target[target == 1]\n",
    "\n",
    "    features_downsampled = pd.concat(\n",
    "        [features_zeros.sample(frac=fraction, random_state=12345)] + [features_ones])\n",
    "    target_downsampled = pd.concat(\n",
    "        [target_zeros.sample(frac=fraction, random_state=12345)] + [target_ones])\n",
    "    \n",
    "    features_downsampled, target_downsampled = shuffle(\n",
    "        features_downsampled, target_downsampled, random_state=12345)\n",
    "    \n",
    "    return features_downsampled, target_downsampled\n",
    "\n",
    "features_downsampled, target_downsampled = downsample(features_train, target_train, 0.25)"
   ]
  },
  {
   "cell_type": "markdown",
   "metadata": {},
   "source": [
    "#### Логистическая регрессия"
   ]
  },
  {
   "cell_type": "code",
   "execution_count": 27,
   "metadata": {},
   "outputs": [
    {
     "name": "stdout",
     "output_type": "stream",
     "text": [
      "Наилучший показатель F-1 меры на валидационной выборке: 0.477815699658703\n",
      "AUC-ROC показатель на валидационной выборке: 0.7522622776860065\n"
     ]
    }
   ],
   "source": [
    "#model_logistic = LogisticRegression(random_state=12345, solver='liblinear')\n",
    "#model_logistic.fit(features_downsampled, target_downsampled)\n",
    "#predicted_valid = model_logistic.predict(features_valid)\n",
    "#result = f1_score(target_valid, predicted_valid)\n",
    "#probabilities_valid = model_logistic.predict_proba(features_valid)\n",
    "#probabilities_one_valid = probabilities_valid[:, 1]\n",
    "#auc_roc = roc_auc_score(target_valid, probabilities_one_valid)\n",
    "#print(\"Наилучший показатель F-1 меры на валидационной выборке:\", result)\n",
    "#print(\"AUC-ROC показатель на валидационной выборке:\", auc_roc)"
   ]
  },
  {
   "cell_type": "markdown",
   "metadata": {},
   "source": [
    "#### Дерево решений"
   ]
  },
  {
   "cell_type": "code",
   "execution_count": 28,
   "metadata": {},
   "outputs": [
    {
     "name": "stdout",
     "output_type": "stream",
     "text": [
      "Наилучший показатель F-1 меры на валидационной выборке: 0.5590778097982709 Глубина дерева: 6\n",
      "AUC-ROC показатель на валидационной выборке: 0.8189229290924206\n"
     ]
    }
   ],
   "source": [
    "#best_model = None\n",
    "#best_result = 0\n",
    "#best_depth = 0\n",
    "#best_auc_roc = 0\n",
    "#for depth in range(1, 16, 1):\n",
    "    #model = DecisionTreeClassifier(random_state=12345, max_depth=depth)\n",
    "    #model.fit(features_downsampled, target_downsampled)\n",
    "    #predictions_valid = model.predict(features_valid)\n",
    "    #probabilities_valid = model.predict_proba(features_valid)\n",
    "    #probabilities_one_valid = probabilities_valid[:, 1]\n",
    "    #result = f1_score(target_valid, predictions_valid)\n",
    "    #auc_roc_result = roc_auc_score(target_valid, probabilities_one_valid)\n",
    "    #if result > best_result:\n",
    "        #best_model = model\n",
    "        #best_result = result\n",
    "        #best_depth = depth\n",
    "        #best_auc_roc = auc_roc_result\n",
    "#print(\"Наилучший показатель F-1 меры на валидационной выборке:\", best_result, \"Глубина дерева:\", best_depth)\n",
    "#print(\"AUC-ROC показатель на валидационной выборке:\", best_auc_roc)"
   ]
  },
  {
   "cell_type": "markdown",
   "metadata": {},
   "source": [
    "#### Случайный лес"
   ]
  },
  {
   "cell_type": "code",
   "execution_count": 29,
   "metadata": {},
   "outputs": [
    {
     "name": "stdout",
     "output_type": "stream",
     "text": [
      "Наилучший показатель F-1 меры на валидационной выборке: 0.5914691943127961 Количество деревьев: 19 Максимальная глубина: 15\n",
      "AUC-ROC показатель на валидационной выборке: 0.8509572746860882\n"
     ]
    }
   ],
   "source": [
    "best_model = None\n",
    "best_result = 0\n",
    "best_est = 0\n",
    "best_depth = 0\n",
    "best_auc_roc = 0\n",
    "for est in range(1, 51, 1):\n",
    "    for depth in range (1, 16, 1):\n",
    "        model_forest = RandomForestClassifier(random_state=12345, n_estimators=est, max_depth=depth)\n",
    "        model_forest.fit(features_downsampled, target_downsampled)\n",
    "        predictions_forest = model_forest.predict(features_valid)\n",
    "        result = f1_score(target_valid, predictions_forest)\n",
    "        probabilities_valid = model_forest.predict_proba(features_valid)\n",
    "        probabilities_one_valid = probabilities_valid[:, 1]\n",
    "        auc_roc_result = roc_auc_score(target_valid, probabilities_one_valid)\n",
    "        if result > best_result:\n",
    "            best_model_forest = model_forest\n",
    "            best_result = result\n",
    "            best_est = est\n",
    "            best_depth = depth\n",
    "            best_auc_roc = auc_roc_result\n",
    "print(\"Наилучший показатель F-1 меры на валидационной выборке:\", best_result, \"Количество деревьев:\", best_est, \"Максимальная глубина:\", depth)\n",
    "print(\"AUC-ROC показатель на валидационной выборке:\", best_auc_roc)"
   ]
  },
  {
   "cell_type": "markdown",
   "metadata": {},
   "source": [
    "#### Вывод\n",
    "Проверка по уменьшению выборки показала следующие наилучшие результаты показателей F-1 и AUC-ROC соответственно:\n",
    " - Логистическая регрессия = 0.478 и 0.752\n",
    " - Дерево решений, Глубина дерева: 6  = 0.559 и 0.819\n",
    " - Случайный лес, Количество деревьев: 19, Максимальная глубина: 15 = 0.591 и 0.851."
   ]
  },
  {
   "cell_type": "markdown",
   "metadata": {},
   "source": [
    "### Вывод\n",
    "- Проверка по взешиванию классов показала следующие наилучшие результаты показателей F-1 и AUC-ROC соответственно:\n",
    "     - Логистическая регрессия = 0.476 и 0.754\n",
    "     - Дерево решений, Глубина дерева: 7  = 0.546 и 0.791\n",
    "     - Случайный лес, Количество деревьев: 26, Максимальная глубина: 15 = 0.615 и 0.845.\n",
    "- Проверка по увеличению выборки показала следующие наилучшие результаты показателей F-1 и AUC-ROC соответственно:\n",
    "     - Логистическая регрессия = 0.479 и 0.754 +\n",
    "     - Дерево решений, Глубина дерева: 7  = 0.546 и 0.791\n",
    "     - Случайный лес, Количество деревьев: 28, Максимальная глубина: 15 = 0.619 и 0.856.+++\n",
    "- Проверка по уменьшению выборки показала следующие наилучшие результаты показателей F-1 и AUC-ROC соответственно:\n",
    "     - Логистическая регрессия = 0.478 и 0.752\n",
    "     - Дерево решений, Глубина дерева: 6  = 0.559 и 0.819 +\n",
    "     - Случайный лес, Количество деревьев: 19, Максимальная глубина: 15 = 0.591 и 0.851.\n",
    "     \n",
    "- Лучшая модель показала себя на увеличении выборки с показателями F-1 = 0.619 и AUC-ROC = 0.856. и это наш фаворит:\n",
    "     - Случайный лес со следующими параметрами: Количество деревьев: 28, Максимальная глубина: 15"
   ]
  },
  {
   "cell_type": "markdown",
   "metadata": {},
   "source": [
    "## Тестирование модели"
   ]
  },
  {
   "cell_type": "markdown",
   "metadata": {},
   "source": [
    "#### Исследуем метрику AUC-ROC полученными гиперпараметрами с наилучшими результатами."
   ]
  },
  {
   "cell_type": "code",
   "execution_count": 47,
   "metadata": {},
   "outputs": [
    {
     "name": "stdout",
     "output_type": "stream",
     "text": [
      "AUC-ROC Дерево решений 0.8189229290924206\n",
      "F-1 Дерево решений: 0.5939278937381405\n",
      "AUC-ROC Случайный лес c увеличением выборки: 0.8376257613545749\n",
      "F-1 Случайный лесc увеличением выборки: 0.6161616161616161\n",
      "AUC-ROC Случайный лес c уменьшением выборки: 0.8289537611571509\n",
      "F-1 Случайный лес: 0.5891181988742964\n"
     ]
    },
    {
     "data": {
      "image/png": "[encoded data removed]",
      "text/plain": [
       "<Figure size 1440x1440 with 1 Axes>"
      ]
     },
     "metadata": {
      "needs_background": "light"
     },
     "output_type": "display_data"
    }
   ],
   "source": [
    "plt.figure(figsize=[20,20])\n",
    "\n",
    "plt.plot([0, 1], [0, 1], linestyle='--', label='Случайная модель')\n",
    "\n",
    "#Логистическая регрессия\n",
    "#model_logistic = LogisticRegression(random_state=12345, solver='liblinear')\n",
    "#model_logistic.fit(features_upsampled, target_upsampled)\n",
    "#predicted_valid = model_logistic.predict(features_test)\n",
    "#result_f1_lr = f1_score(target_test, predicted_valid)\n",
    "#probabilities_valid = model.predict_proba(features_valid)\n",
    "#probabilities_one_valid = probabilities_valid[:, 1]\n",
    "#fpr, tpr, thresholds = roc_curve(target_valid, probabilities_one_valid)\n",
    "#auc_roc = roc_auc_score(target_valid, probabilities_one_valid)\n",
    "#print('AUC-ROC Логистическая регрессия:',auc_roc)\n",
    "#print('F-1 Логистическая регрессия:', result_f1_lr )\n",
    "#plt.plot(fpr, tpr, label='Логистическая регрессия')\n",
    "\n",
    "#Дерево решений\n",
    "model = DecisionTreeClassifier(random_state=12345, max_depth=6)\n",
    "model.fit(features_downsampled, target_downsampled)\n",
    "predictions_valid = model.predict(features_test)\n",
    "result_f1_dt = f1_score(target_test, predictions_valid)\n",
    "probabilities_valid = model.predict_proba(features_valid)\n",
    "probabilities_one_valid = probabilities_valid[:, 1]\n",
    "fpr, tpr, thresholds = roc_curve(target_valid, probabilities_one_valid)\n",
    "auc_roc = roc_auc_score(target_valid, probabilities_one_valid)\n",
    "print('AUC-ROC Дерево решений', auc_roc)\n",
    "print('F-1 Дерево решений:', result_f1_dt)\n",
    "plt.plot(fpr, tpr, label='Дерево решений')\n",
    "\n",
    "\n",
    "#Случайный лес c увеличением выборки\n",
    "model_forest_up = RandomForestClassifier(random_state=12345, n_estimators=28, max_depth=15)\n",
    "model_forest_up.fit(features_upsampled, target_upsampled)\n",
    "predictions_forest_up = model_forest_up.predict(features_test)\n",
    "result_f1_rf_up = f1_score(target_test, predictions_forest_up)\n",
    "probabilities_valid_up = model_forest_up.predict_proba(features_valid)\n",
    "probabilities_one_valid_up = probabilities_valid_up[:, 1]\n",
    "fpr_up, tpr_up, thresholds_up = roc_curve(target_valid, probabilities_one_valid_up)\n",
    "auc_roc_up = roc_auc_score(target_valid, probabilities_one_valid_up)\n",
    "print('AUC-ROC Случайный лес c увеличением выборки:', auc_roc_up)\n",
    "print('F-1 Случайный лесc увеличением выборки:', result_f1_rf_up )\n",
    "plt.plot(fpr_up, tpr_up, label='Случайный лес c увеличением выборки:')\n",
    "\n",
    "\n",
    "#Случайный лес c уменьшением выборки\n",
    "model_forest_dw = RandomForestClassifier(random_state=12345, n_estimators=19, max_depth=15)\n",
    "model_forest_dw.fit(features_downsampled, target_downsampled)\n",
    "predictions_forest_dw = model_forest_dw.predict(features_test)\n",
    "result_f1_rf_dw = f1_score(target_test, predictions_forest_dw)\n",
    "probabilities_valid_dw = model_forest_dw.predict_proba(features_valid)\n",
    "probabilities_one_valid_dw = probabilities_valid_dw[:, 1]\n",
    "fpr_dw, tpr_dw, thresholds_dw = roc_curve(target_valid, probabilities_one_valid_dw)\n",
    "auc_roc_dw = roc_auc_score(target_valid, probabilities_one_valid_dw)\n",
    "print('AUC-ROC Случайный лес c уменьшением выборки:', auc_roc_dw)\n",
    "print('F-1 Случайный лес:', result_f1_rf_dw )\n",
    "plt.plot(fpr_dw, tpr_dw, label='Случайный лес c уменьшением выборки')\n",
    "\n",
    "plt.xlim([0,1])\n",
    "plt.ylim([0,1])\n",
    "\n",
    "plt.xlabel(\"False Positive Rate\")\n",
    "plt.ylabel(\"True Positive Rate\")\n",
    "\n",
    "plt.legend(loc='lower right', fontsize='x-large')\n",
    "\n",
    "plt.title(\"ROC-кривая\")\n",
    "plt.show()"
   ]
  },
  {
   "cell_type": "markdown",
   "metadata": {},
   "source": [
    "### Вывод\n",
    "Лучший резутьтат метрик на тестовой выборке нам преподнес на случайный лес с количеством деревьев: 28, максимальная глубина: 15:\n",
    "- AUC-ROC = 0.8376257613545749\n",
    "- F-1 = 0.6161616161616161\n",
    "\n",
    "Необходимого результатов в F-1 меры > 0.59  достигло и дерево решений:\n",
    "- AUC-ROC Дерево решений = 0.8189229290924206\n",
    "- F-1 = 0.5939278937381405"
   ]
  },
  {
   "cell_type": "markdown",
   "metadata": {},
   "source": [
    "## Чек-лист готовности проекта"
   ]
  },
  {
   "cell_type": "markdown",
   "metadata": {},
   "source": [
    "Поставьте 'x' в выполненных пунктах. Далее нажмите Shift+Enter."
   ]
  },
  {
   "cell_type": "markdown",
   "metadata": {},
   "source": [
    "- [x]  Jupyter Notebook открыт\n",
    "- [x]  Весь код выполняется без ошибок\n",
    "- [x]  Ячейки с кодом расположены в порядке исполнения\n",
    "- [x]  Выполнен шаг 1: данные подготовлены\n",
    "- [x]  Выполнен шаг 2: задача исследована\n",
    "    - [x]  Исследован баланс классов\n",
    "    - [x]  Изучены модели без учёта дисбаланса\n",
    "    - [x]  Написаны выводы по результатам исследования\n",
    "- [x]  Выполнен шаг 3: учтён дисбаланс\n",
    "    - [x]  Применено несколько способов борьбы с дисбалансом\n",
    "    - [x]  Написаны выводы по результатам исследования\n",
    "- [x]  Выполнен шаг 4: проведено тестирование\n",
    "- [x]  Удалось достичь *F1*-меры не менее 0.59\n",
    "- [x]  Исследована метрика *AUC-ROC*"
   ]
  }
 ],
 "metadata": {
  "ExecuteTimeLog": [
   {
    "duration": 451,
    "start_time": "2022-08-29T11:05:24.967Z"
   },
   {
    "duration": 85,
    "start_time": "2022-08-29T11:05:27.840Z"
   },
   {
    "duration": 65,
    "start_time": "2022-08-29T11:05:34.160Z"
   },
   {
    "duration": 56,
    "start_time": "2022-08-29T11:06:01.243Z"
   },
   {
    "duration": 57,
    "start_time": "2022-08-29T11:06:07.481Z"
   },
   {
    "duration": 56,
    "start_time": "2022-08-29T11:08:54.925Z"
   },
   {
    "duration": 64,
    "start_time": "2022-08-29T11:09:19.119Z"
   },
   {
    "duration": 14,
    "start_time": "2022-08-29T11:09:24.191Z"
   },
   {
    "duration": 43,
    "start_time": "2022-08-29T11:16:03.241Z"
   },
   {
    "duration": 7,
    "start_time": "2022-08-29T11:22:35.781Z"
   },
   {
    "duration": 12,
    "start_time": "2022-08-29T11:22:39.900Z"
   },
   {
    "duration": 12,
    "start_time": "2022-08-29T12:31:18.139Z"
   },
   {
    "duration": 5,
    "start_time": "2022-08-29T12:31:49.868Z"
   },
   {
    "duration": 14,
    "start_time": "2022-08-29T12:31:51.027Z"
   },
   {
    "duration": 13,
    "start_time": "2022-08-29T12:32:06.863Z"
   },
   {
    "duration": 5,
    "start_time": "2022-08-29T12:33:13.795Z"
   },
   {
    "duration": 14,
    "start_time": "2022-08-29T12:33:15.880Z"
   },
   {
    "duration": 5,
    "start_time": "2022-08-29T12:34:01.290Z"
   },
   {
    "duration": 345,
    "start_time": "2022-08-29T12:34:25.943Z"
   },
   {
    "duration": 60,
    "start_time": "2022-08-29T12:34:26.291Z"
   },
   {
    "duration": 11,
    "start_time": "2022-08-29T12:34:26.353Z"
   },
   {
    "duration": 39,
    "start_time": "2022-08-29T12:34:26.366Z"
   },
   {
    "duration": 4,
    "start_time": "2022-08-29T12:34:26.407Z"
   },
   {
    "duration": 16,
    "start_time": "2022-08-29T12:34:26.412Z"
   },
   {
    "duration": 11,
    "start_time": "2022-08-29T12:34:26.430Z"
   },
   {
    "duration": 11,
    "start_time": "2022-08-29T12:34:26.443Z"
   },
   {
    "duration": 10,
    "start_time": "2022-08-29T12:37:18.325Z"
   },
   {
    "duration": 2,
    "start_time": "2022-08-29T12:58:57.942Z"
   },
   {
    "duration": 8,
    "start_time": "2022-08-29T12:59:56.669Z"
   },
   {
    "duration": 5,
    "start_time": "2022-08-29T13:00:56.423Z"
   },
   {
    "duration": 782,
    "start_time": "2022-08-29T13:01:07.300Z"
   },
   {
    "duration": 104,
    "start_time": "2022-08-29T13:03:05.939Z"
   },
   {
    "duration": 58,
    "start_time": "2022-08-30T13:19:31.767Z"
   },
   {
    "duration": 1196,
    "start_time": "2022-08-30T13:19:39.144Z"
   },
   {
    "duration": 224,
    "start_time": "2022-08-30T13:19:40.343Z"
   },
   {
    "duration": 23,
    "start_time": "2022-08-30T13:19:40.570Z"
   },
   {
    "duration": 60,
    "start_time": "2022-08-30T13:19:40.596Z"
   },
   {
    "duration": 5,
    "start_time": "2022-08-30T13:19:40.659Z"
   },
   {
    "duration": 28,
    "start_time": "2022-08-30T13:19:40.666Z"
   },
   {
    "duration": 19,
    "start_time": "2022-08-30T13:19:40.696Z"
   },
   {
    "duration": 18,
    "start_time": "2022-08-30T13:19:40.718Z"
   },
   {
    "duration": 621,
    "start_time": "2022-08-30T13:19:40.739Z"
   },
   {
    "duration": 5,
    "start_time": "2022-08-30T13:19:41.362Z"
   },
   {
    "duration": 7,
    "start_time": "2022-08-30T14:07:25.926Z"
   },
   {
    "duration": 118,
    "start_time": "2022-08-30T14:07:34.098Z"
   },
   {
    "duration": 18,
    "start_time": "2022-08-30T14:07:59.397Z"
   },
   {
    "duration": 19,
    "start_time": "2022-08-30T14:08:17.229Z"
   },
   {
    "duration": 15,
    "start_time": "2022-08-30T14:08:28.493Z"
   },
   {
    "duration": 16,
    "start_time": "2022-08-30T14:08:55.598Z"
   },
   {
    "duration": 14,
    "start_time": "2022-08-30T14:09:43.439Z"
   },
   {
    "duration": 1143,
    "start_time": "2022-08-30T14:10:00.644Z"
   },
   {
    "duration": 77,
    "start_time": "2022-08-30T14:10:01.789Z"
   },
   {
    "duration": 19,
    "start_time": "2022-08-30T14:10:01.869Z"
   },
   {
    "duration": 66,
    "start_time": "2022-08-30T14:10:01.893Z"
   },
   {
    "duration": 6,
    "start_time": "2022-08-30T14:10:01.962Z"
   },
   {
    "duration": 34,
    "start_time": "2022-08-30T14:10:01.971Z"
   },
   {
    "duration": 28,
    "start_time": "2022-08-30T14:10:02.008Z"
   },
   {
    "duration": 31,
    "start_time": "2022-08-30T14:10:02.038Z"
   },
   {
    "duration": 471,
    "start_time": "2022-08-30T14:10:02.072Z"
   },
   {
    "duration": 21,
    "start_time": "2022-08-30T14:10:02.545Z"
   },
   {
    "duration": 24,
    "start_time": "2022-08-30T14:10:02.568Z"
   },
   {
    "duration": 5,
    "start_time": "2022-08-30T14:10:24.015Z"
   },
   {
    "duration": 4,
    "start_time": "2022-08-30T14:10:35.259Z"
   },
   {
    "duration": 5,
    "start_time": "2022-08-30T14:10:45.112Z"
   },
   {
    "duration": 5,
    "start_time": "2022-08-30T14:10:49.298Z"
   },
   {
    "duration": 5,
    "start_time": "2022-08-30T14:10:56.471Z"
   },
   {
    "duration": 5,
    "start_time": "2022-08-30T14:11:03.276Z"
   },
   {
    "duration": 117,
    "start_time": "2022-08-30T14:13:18.609Z"
   },
   {
    "duration": 1185,
    "start_time": "2022-08-30T14:13:33.889Z"
   },
   {
    "duration": 66,
    "start_time": "2022-08-30T14:13:35.076Z"
   },
   {
    "duration": 13,
    "start_time": "2022-08-30T14:13:35.144Z"
   },
   {
    "duration": 60,
    "start_time": "2022-08-30T14:13:35.159Z"
   },
   {
    "duration": 5,
    "start_time": "2022-08-30T14:13:35.222Z"
   },
   {
    "duration": 34,
    "start_time": "2022-08-30T14:13:35.228Z"
   },
   {
    "duration": 14,
    "start_time": "2022-08-30T14:13:35.264Z"
   },
   {
    "duration": 12,
    "start_time": "2022-08-30T14:13:35.280Z"
   },
   {
    "duration": 449,
    "start_time": "2022-08-30T14:13:35.294Z"
   },
   {
    "duration": 7,
    "start_time": "2022-08-30T14:13:35.744Z"
   },
   {
    "duration": 8,
    "start_time": "2022-08-30T14:13:35.752Z"
   },
   {
    "duration": 5,
    "start_time": "2022-08-30T14:14:59.134Z"
   },
   {
    "duration": 26,
    "start_time": "2022-08-30T14:16:52.818Z"
   },
   {
    "duration": 3326,
    "start_time": "2022-08-30T14:50:52.739Z"
   },
   {
    "duration": 19,
    "start_time": "2022-08-30T14:51:02.776Z"
   },
   {
    "duration": 5,
    "start_time": "2022-08-30T14:51:08.744Z"
   },
   {
    "duration": 18,
    "start_time": "2022-08-30T14:51:15.358Z"
   },
   {
    "duration": 5,
    "start_time": "2022-08-30T14:51:22.556Z"
   },
   {
    "duration": 18,
    "start_time": "2022-08-30T14:51:30.336Z"
   },
   {
    "duration": 5,
    "start_time": "2022-08-30T14:51:42.234Z"
   },
   {
    "duration": 16,
    "start_time": "2022-08-30T14:51:53.275Z"
   },
   {
    "duration": 152,
    "start_time": "2022-08-30T14:52:40.196Z"
   },
   {
    "duration": 54,
    "start_time": "2022-08-31T14:25:29.700Z"
   },
   {
    "duration": 1207,
    "start_time": "2022-08-31T14:25:35.178Z"
   },
   {
    "duration": 105,
    "start_time": "2022-08-31T14:25:36.387Z"
   },
   {
    "duration": 11,
    "start_time": "2022-08-31T14:25:36.494Z"
   },
   {
    "duration": 37,
    "start_time": "2022-08-31T14:25:36.507Z"
   },
   {
    "duration": 5,
    "start_time": "2022-08-31T14:25:36.546Z"
   },
   {
    "duration": 15,
    "start_time": "2022-08-31T14:25:36.552Z"
   },
   {
    "duration": 11,
    "start_time": "2022-08-31T14:25:36.568Z"
   },
   {
    "duration": 30,
    "start_time": "2022-08-31T14:25:36.581Z"
   },
   {
    "duration": 530,
    "start_time": "2022-08-31T14:25:36.612Z"
   },
   {
    "duration": 7,
    "start_time": "2022-08-31T14:25:37.145Z"
   },
   {
    "duration": 36,
    "start_time": "2022-08-31T14:25:37.153Z"
   },
   {
    "duration": 15,
    "start_time": "2022-08-31T14:25:37.191Z"
   },
   {
    "duration": 38,
    "start_time": "2022-08-31T14:25:37.209Z"
   },
   {
    "duration": 2540,
    "start_time": "2022-08-31T14:25:37.250Z"
   },
   {
    "duration": 5,
    "start_time": "2022-08-31T14:25:39.792Z"
   },
   {
    "duration": 3346,
    "start_time": "2022-08-31T14:28:03.247Z"
   },
   {
    "duration": 58,
    "start_time": "2022-08-31T14:28:06.595Z"
   },
   {
    "duration": 11,
    "start_time": "2022-08-31T14:28:06.655Z"
   },
   {
    "duration": 45,
    "start_time": "2022-08-31T14:28:06.667Z"
   },
   {
    "duration": 4,
    "start_time": "2022-08-31T14:28:06.713Z"
   },
   {
    "duration": 16,
    "start_time": "2022-08-31T14:28:06.719Z"
   },
   {
    "duration": 13,
    "start_time": "2022-08-31T14:28:06.736Z"
   },
   {
    "duration": 19,
    "start_time": "2022-08-31T14:28:06.750Z"
   },
   {
    "duration": 139,
    "start_time": "2022-08-31T14:28:06.770Z"
   },
   {
    "duration": 6,
    "start_time": "2022-08-31T14:28:06.911Z"
   },
   {
    "duration": 18,
    "start_time": "2022-08-31T14:28:06.918Z"
   },
   {
    "duration": 24,
    "start_time": "2022-08-31T14:28:06.938Z"
   },
   {
    "duration": 33,
    "start_time": "2022-08-31T14:28:06.964Z"
   },
   {
    "duration": 18,
    "start_time": "2022-08-31T14:28:06.999Z"
   },
   {
    "duration": 15,
    "start_time": "2022-08-31T14:28:44.838Z"
   },
   {
    "duration": 5,
    "start_time": "2022-08-31T14:28:53.273Z"
   },
   {
    "duration": 15,
    "start_time": "2022-08-31T14:29:01.015Z"
   },
   {
    "duration": 12,
    "start_time": "2022-08-31T14:36:43.367Z"
   },
   {
    "duration": 15,
    "start_time": "2022-08-31T14:36:59.770Z"
   },
   {
    "duration": 15,
    "start_time": "2022-08-31T14:37:05.785Z"
   },
   {
    "duration": 15,
    "start_time": "2022-08-31T14:37:10.867Z"
   },
   {
    "duration": 5,
    "start_time": "2022-08-31T14:37:15.270Z"
   },
   {
    "duration": 4,
    "start_time": "2022-08-31T14:37:19.423Z"
   },
   {
    "duration": 5,
    "start_time": "2022-08-31T14:37:23.115Z"
   },
   {
    "duration": 11,
    "start_time": "2022-08-31T14:41:07.653Z"
   },
   {
    "duration": 12,
    "start_time": "2022-08-31T14:41:31.617Z"
   },
   {
    "duration": 50,
    "start_time": "2022-09-01T11:25:53.677Z"
   },
   {
    "duration": 4391,
    "start_time": "2022-09-01T11:26:37.112Z"
   },
   {
    "duration": 99,
    "start_time": "2022-09-01T11:26:41.505Z"
   },
   {
    "duration": 13,
    "start_time": "2022-09-01T11:26:41.605Z"
   },
   {
    "duration": 41,
    "start_time": "2022-09-01T11:26:41.620Z"
   },
   {
    "duration": 4,
    "start_time": "2022-09-01T11:26:41.663Z"
   },
   {
    "duration": 35,
    "start_time": "2022-09-01T11:26:41.669Z"
   },
   {
    "duration": 14,
    "start_time": "2022-09-01T11:26:41.706Z"
   },
   {
    "duration": 11,
    "start_time": "2022-09-01T11:26:41.722Z"
   },
   {
    "duration": 154,
    "start_time": "2022-09-01T11:26:41.735Z"
   },
   {
    "duration": 6,
    "start_time": "2022-09-01T11:26:41.902Z"
   },
   {
    "duration": 17,
    "start_time": "2022-09-01T11:26:41.910Z"
   },
   {
    "duration": 10,
    "start_time": "2022-09-01T11:26:41.929Z"
   },
   {
    "duration": 34,
    "start_time": "2022-09-01T11:26:41.941Z"
   },
   {
    "duration": 13,
    "start_time": "2022-09-01T11:26:41.977Z"
   },
   {
    "duration": 127,
    "start_time": "2022-09-01T11:26:41.992Z"
   },
   {
    "duration": 30,
    "start_time": "2022-09-01T11:26:54.133Z"
   },
   {
    "duration": 41,
    "start_time": "2022-09-01T11:27:00.948Z"
   },
   {
    "duration": 29,
    "start_time": "2022-09-01T11:27:20.615Z"
   },
   {
    "duration": 33,
    "start_time": "2022-09-01T11:27:52.981Z"
   },
   {
    "duration": 39,
    "start_time": "2022-09-01T11:27:56.916Z"
   },
   {
    "duration": 3546,
    "start_time": "2022-09-01T11:28:01.943Z"
   },
   {
    "duration": 62,
    "start_time": "2022-09-01T11:28:05.491Z"
   },
   {
    "duration": 14,
    "start_time": "2022-09-01T11:28:05.554Z"
   },
   {
    "duration": 45,
    "start_time": "2022-09-01T11:28:05.570Z"
   },
   {
    "duration": 4,
    "start_time": "2022-09-01T11:28:05.618Z"
   },
   {
    "duration": 17,
    "start_time": "2022-09-01T11:28:05.624Z"
   },
   {
    "duration": 13,
    "start_time": "2022-09-01T11:28:05.643Z"
   },
   {
    "duration": 18,
    "start_time": "2022-09-01T11:28:05.657Z"
   },
   {
    "duration": 162,
    "start_time": "2022-09-01T11:28:05.677Z"
   },
   {
    "duration": 6,
    "start_time": "2022-09-01T11:28:05.840Z"
   },
   {
    "duration": 16,
    "start_time": "2022-09-01T11:28:05.847Z"
   },
   {
    "duration": 21,
    "start_time": "2022-09-01T11:28:05.865Z"
   },
   {
    "duration": 28,
    "start_time": "2022-09-01T11:28:05.888Z"
   },
   {
    "duration": 13,
    "start_time": "2022-09-01T11:28:05.918Z"
   },
   {
    "duration": 43,
    "start_time": "2022-09-01T11:28:05.933Z"
   },
   {
    "duration": 24,
    "start_time": "2022-09-01T11:28:17.527Z"
   },
   {
    "duration": 2094,
    "start_time": "2022-09-01T11:39:30.208Z"
   },
   {
    "duration": 93,
    "start_time": "2022-09-01T11:39:35.913Z"
   },
   {
    "duration": 2119,
    "start_time": "2022-09-01T11:43:00.550Z"
   },
   {
    "duration": 52,
    "start_time": "2022-09-01T11:43:18.043Z"
   },
   {
    "duration": 5,
    "start_time": "2022-09-01T11:44:08.400Z"
   },
   {
    "duration": 3621,
    "start_time": "2022-09-01T12:14:56.621Z"
   },
   {
    "duration": 70,
    "start_time": "2022-09-01T12:15:00.244Z"
   },
   {
    "duration": 13,
    "start_time": "2022-09-01T12:15:00.316Z"
   },
   {
    "duration": 42,
    "start_time": "2022-09-01T12:15:00.332Z"
   },
   {
    "duration": 6,
    "start_time": "2022-09-01T12:15:00.377Z"
   },
   {
    "duration": 30,
    "start_time": "2022-09-01T12:15:00.402Z"
   },
   {
    "duration": 47,
    "start_time": "2022-09-01T12:15:00.434Z"
   },
   {
    "duration": 18,
    "start_time": "2022-09-01T12:15:00.483Z"
   },
   {
    "duration": 29,
    "start_time": "2022-09-01T12:15:00.503Z"
   },
   {
    "duration": 19,
    "start_time": "2022-09-01T12:15:00.534Z"
   },
   {
    "duration": 35,
    "start_time": "2022-09-01T12:15:00.555Z"
   },
   {
    "duration": 50,
    "start_time": "2022-09-01T12:15:00.592Z"
   },
   {
    "duration": 53,
    "start_time": "2022-09-01T12:15:00.644Z"
   },
   {
    "duration": 48,
    "start_time": "2022-09-01T12:15:00.700Z"
   },
   {
    "duration": 46,
    "start_time": "2022-09-01T12:15:00.749Z"
   },
   {
    "duration": 5,
    "start_time": "2022-09-01T12:15:00.796Z"
   },
   {
    "duration": 174,
    "start_time": "2022-09-01T12:15:00.803Z"
   },
   {
    "duration": 2100,
    "start_time": "2022-09-01T12:16:53.778Z"
   },
   {
    "duration": 36,
    "start_time": "2022-09-01T12:26:56.957Z"
   },
   {
    "duration": 8,
    "start_time": "2022-09-01T12:28:24.942Z"
   },
   {
    "duration": 6,
    "start_time": "2022-09-01T12:29:32.246Z"
   },
   {
    "duration": 8,
    "start_time": "2022-09-01T12:30:17.142Z"
   },
   {
    "duration": 22,
    "start_time": "2022-09-01T12:31:58.719Z"
   },
   {
    "duration": 9,
    "start_time": "2022-09-01T12:33:34.896Z"
   },
   {
    "duration": 49,
    "start_time": "2022-09-01T12:37:37.355Z"
   },
   {
    "duration": 19,
    "start_time": "2022-09-01T12:40:15.481Z"
   },
   {
    "duration": 53,
    "start_time": "2022-09-01T13:04:37.082Z"
   },
   {
    "duration": 52,
    "start_time": "2022-09-01T13:04:57.225Z"
   },
   {
    "duration": 3615,
    "start_time": "2022-09-01T13:19:16.222Z"
   },
   {
    "duration": 60,
    "start_time": "2022-09-01T13:19:19.839Z"
   },
   {
    "duration": 13,
    "start_time": "2022-09-01T13:19:19.901Z"
   },
   {
    "duration": 56,
    "start_time": "2022-09-01T13:19:19.916Z"
   },
   {
    "duration": 5,
    "start_time": "2022-09-01T13:19:19.974Z"
   },
   {
    "duration": 26,
    "start_time": "2022-09-01T13:19:19.980Z"
   },
   {
    "duration": 13,
    "start_time": "2022-09-01T13:19:20.007Z"
   },
   {
    "duration": 16,
    "start_time": "2022-09-01T13:19:20.022Z"
   },
   {
    "duration": 149,
    "start_time": "2022-09-01T13:19:20.040Z"
   },
   {
    "duration": 15,
    "start_time": "2022-09-01T13:19:20.191Z"
   },
   {
    "duration": 6,
    "start_time": "2022-09-01T13:19:20.208Z"
   },
   {
    "duration": 10,
    "start_time": "2022-09-01T13:19:20.215Z"
   },
   {
    "duration": 30,
    "start_time": "2022-09-01T13:19:20.226Z"
   },
   {
    "duration": 47,
    "start_time": "2022-09-01T13:19:20.258Z"
   },
   {
    "duration": 37,
    "start_time": "2022-09-01T13:19:20.306Z"
   },
   {
    "duration": 60,
    "start_time": "2022-09-01T13:19:20.345Z"
   },
   {
    "duration": 140,
    "start_time": "2022-09-01T13:19:20.407Z"
   },
   {
    "duration": 19,
    "start_time": "2022-09-01T13:20:08.022Z"
   },
   {
    "duration": 20,
    "start_time": "2022-09-01T13:20:29.778Z"
   },
   {
    "duration": 34,
    "start_time": "2022-09-01T13:20:46.778Z"
   },
   {
    "duration": 37,
    "start_time": "2022-09-01T13:21:01.978Z"
   },
   {
    "duration": 187,
    "start_time": "2022-09-01T13:21:09.815Z"
   },
   {
    "duration": 121,
    "start_time": "2022-09-01T13:59:32.573Z"
   },
   {
    "duration": 2045,
    "start_time": "2022-09-01T14:00:11.825Z"
   },
   {
    "duration": 16,
    "start_time": "2022-09-01T14:00:19.676Z"
   },
   {
    "duration": 10,
    "start_time": "2022-09-01T14:00:27.955Z"
   },
   {
    "duration": 3471,
    "start_time": "2022-09-01T14:01:05.408Z"
   },
   {
    "duration": 67,
    "start_time": "2022-09-01T14:01:08.883Z"
   },
   {
    "duration": 17,
    "start_time": "2022-09-01T14:01:08.954Z"
   },
   {
    "duration": 82,
    "start_time": "2022-09-01T14:01:08.974Z"
   },
   {
    "duration": 6,
    "start_time": "2022-09-01T14:01:09.058Z"
   },
   {
    "duration": 41,
    "start_time": "2022-09-01T14:01:09.066Z"
   },
   {
    "duration": 33,
    "start_time": "2022-09-01T14:01:09.109Z"
   },
   {
    "duration": 19,
    "start_time": "2022-09-01T14:01:09.144Z"
   },
   {
    "duration": 145,
    "start_time": "2022-09-01T14:01:09.165Z"
   },
   {
    "duration": 6,
    "start_time": "2022-09-01T14:01:09.313Z"
   },
   {
    "duration": 19,
    "start_time": "2022-09-01T14:01:09.320Z"
   },
   {
    "duration": 28,
    "start_time": "2022-09-01T14:01:09.341Z"
   },
   {
    "duration": 34,
    "start_time": "2022-09-01T14:01:09.370Z"
   },
   {
    "duration": 20,
    "start_time": "2022-09-01T14:01:09.405Z"
   },
   {
    "duration": 68,
    "start_time": "2022-09-01T14:01:09.427Z"
   },
   {
    "duration": 114,
    "start_time": "2022-09-01T14:01:09.496Z"
   },
   {
    "duration": 307,
    "start_time": "2022-09-01T14:01:09.611Z"
   },
   {
    "duration": 0,
    "start_time": "2022-09-01T14:01:09.922Z"
   },
   {
    "duration": 3647,
    "start_time": "2022-09-01T14:01:39.835Z"
   },
   {
    "duration": 62,
    "start_time": "2022-09-01T14:01:43.485Z"
   },
   {
    "duration": 14,
    "start_time": "2022-09-01T14:01:43.549Z"
   },
   {
    "duration": 51,
    "start_time": "2022-09-01T14:01:43.565Z"
   },
   {
    "duration": 7,
    "start_time": "2022-09-01T14:01:43.618Z"
   },
   {
    "duration": 19,
    "start_time": "2022-09-01T14:01:43.627Z"
   },
   {
    "duration": 16,
    "start_time": "2022-09-01T14:01:43.649Z"
   },
   {
    "duration": 12,
    "start_time": "2022-09-01T14:01:43.667Z"
   },
   {
    "duration": 176,
    "start_time": "2022-09-01T14:01:43.681Z"
   },
   {
    "duration": 6,
    "start_time": "2022-09-01T14:01:43.860Z"
   },
   {
    "duration": 7,
    "start_time": "2022-09-01T14:01:43.868Z"
   },
   {
    "duration": 26,
    "start_time": "2022-09-01T14:01:43.878Z"
   },
   {
    "duration": 26,
    "start_time": "2022-09-01T14:01:43.906Z"
   },
   {
    "duration": 16,
    "start_time": "2022-09-01T14:01:43.935Z"
   },
   {
    "duration": 62,
    "start_time": "2022-09-01T14:01:43.953Z"
   },
   {
    "duration": 130,
    "start_time": "2022-09-01T14:01:44.017Z"
   },
   {
    "duration": 0,
    "start_time": "2022-09-01T14:01:44.149Z"
   },
   {
    "duration": 0,
    "start_time": "2022-09-01T14:01:44.151Z"
   },
   {
    "duration": 13,
    "start_time": "2022-09-01T14:02:51.353Z"
   },
   {
    "duration": 3696,
    "start_time": "2022-09-01T14:02:58.437Z"
   },
   {
    "duration": 63,
    "start_time": "2022-09-01T14:03:02.135Z"
   },
   {
    "duration": 14,
    "start_time": "2022-09-01T14:03:02.202Z"
   },
   {
    "duration": 44,
    "start_time": "2022-09-01T14:03:02.218Z"
   },
   {
    "duration": 5,
    "start_time": "2022-09-01T14:03:02.263Z"
   },
   {
    "duration": 36,
    "start_time": "2022-09-01T14:03:02.270Z"
   },
   {
    "duration": 14,
    "start_time": "2022-09-01T14:03:02.308Z"
   },
   {
    "duration": 33,
    "start_time": "2022-09-01T14:03:02.324Z"
   },
   {
    "duration": 164,
    "start_time": "2022-09-01T14:03:02.359Z"
   },
   {
    "duration": 6,
    "start_time": "2022-09-01T14:03:02.524Z"
   },
   {
    "duration": 14,
    "start_time": "2022-09-01T14:03:02.532Z"
   },
   {
    "duration": 26,
    "start_time": "2022-09-01T14:03:02.548Z"
   },
   {
    "duration": 32,
    "start_time": "2022-09-01T14:03:02.577Z"
   },
   {
    "duration": 14,
    "start_time": "2022-09-01T14:03:02.611Z"
   },
   {
    "duration": 60,
    "start_time": "2022-09-01T14:03:02.626Z"
   },
   {
    "duration": 119,
    "start_time": "2022-09-01T14:03:02.688Z"
   },
   {
    "duration": 0,
    "start_time": "2022-09-01T14:03:02.809Z"
   },
   {
    "duration": 0,
    "start_time": "2022-09-01T14:03:02.810Z"
   },
   {
    "duration": 14,
    "start_time": "2022-09-01T14:03:19.432Z"
   },
   {
    "duration": 61,
    "start_time": "2022-09-01T14:03:43.046Z"
   },
   {
    "duration": 12,
    "start_time": "2022-09-01T14:05:32.477Z"
   },
   {
    "duration": 3695,
    "start_time": "2022-09-01T14:05:44.209Z"
   },
   {
    "duration": 66,
    "start_time": "2022-09-01T14:05:47.906Z"
   },
   {
    "duration": 13,
    "start_time": "2022-09-01T14:05:47.976Z"
   },
   {
    "duration": 41,
    "start_time": "2022-09-01T14:05:47.991Z"
   },
   {
    "duration": 5,
    "start_time": "2022-09-01T14:05:48.034Z"
   },
   {
    "duration": 18,
    "start_time": "2022-09-01T14:05:48.040Z"
   },
   {
    "duration": 13,
    "start_time": "2022-09-01T14:05:48.060Z"
   },
   {
    "duration": 11,
    "start_time": "2022-09-01T14:05:48.074Z"
   },
   {
    "duration": 144,
    "start_time": "2022-09-01T14:05:48.102Z"
   },
   {
    "duration": 6,
    "start_time": "2022-09-01T14:05:48.247Z"
   },
   {
    "duration": 8,
    "start_time": "2022-09-01T14:05:48.255Z"
   },
   {
    "duration": 7,
    "start_time": "2022-09-01T14:05:48.265Z"
   },
   {
    "duration": 43,
    "start_time": "2022-09-01T14:05:48.274Z"
   },
   {
    "duration": 15,
    "start_time": "2022-09-01T14:05:48.319Z"
   },
   {
    "duration": 37,
    "start_time": "2022-09-01T14:05:48.336Z"
   },
   {
    "duration": 228,
    "start_time": "2022-09-01T14:05:48.375Z"
   },
   {
    "duration": 3310,
    "start_time": "2022-09-01T14:05:48.605Z"
   },
   {
    "duration": 126,
    "start_time": "2022-09-01T14:05:51.916Z"
   },
   {
    "duration": 10,
    "start_time": "2022-09-01T14:11:32.754Z"
   },
   {
    "duration": 2127,
    "start_time": "2022-09-01T14:12:18.377Z"
   },
   {
    "duration": 52,
    "start_time": "2022-09-01T14:12:25.404Z"
   },
   {
    "duration": 16,
    "start_time": "2022-09-01T14:12:27.951Z"
   },
   {
    "duration": 151,
    "start_time": "2022-09-01T14:13:29.892Z"
   },
   {
    "duration": 2,
    "start_time": "2022-09-01T14:14:45.087Z"
   },
   {
    "duration": 2,
    "start_time": "2022-09-01T14:15:04.562Z"
   },
   {
    "duration": 5,
    "start_time": "2022-09-01T14:22:22.298Z"
   },
   {
    "duration": 3237,
    "start_time": "2022-09-01T14:22:36.015Z"
   },
   {
    "duration": 7656,
    "start_time": "2022-09-01T14:23:28.890Z"
   },
   {
    "duration": 3533,
    "start_time": "2022-09-01T14:24:47.126Z"
   },
   {
    "duration": 62,
    "start_time": "2022-09-01T14:24:50.661Z"
   },
   {
    "duration": 13,
    "start_time": "2022-09-01T14:24:50.728Z"
   },
   {
    "duration": 61,
    "start_time": "2022-09-01T14:24:50.743Z"
   },
   {
    "duration": 5,
    "start_time": "2022-09-01T14:24:50.806Z"
   },
   {
    "duration": 31,
    "start_time": "2022-09-01T14:24:50.812Z"
   },
   {
    "duration": 13,
    "start_time": "2022-09-01T14:24:50.845Z"
   },
   {
    "duration": 49,
    "start_time": "2022-09-01T14:24:50.860Z"
   },
   {
    "duration": 155,
    "start_time": "2022-09-01T14:24:50.911Z"
   },
   {
    "duration": 7,
    "start_time": "2022-09-01T14:24:51.067Z"
   },
   {
    "duration": 6,
    "start_time": "2022-09-01T14:24:51.076Z"
   },
   {
    "duration": 28,
    "start_time": "2022-09-01T14:24:51.083Z"
   },
   {
    "duration": 28,
    "start_time": "2022-09-01T14:24:51.114Z"
   },
   {
    "duration": 18,
    "start_time": "2022-09-01T14:24:51.144Z"
   },
   {
    "duration": 43,
    "start_time": "2022-09-01T14:24:51.164Z"
   },
   {
    "duration": 105,
    "start_time": "2022-09-01T14:24:51.209Z"
   },
   {
    "duration": 7830,
    "start_time": "2022-09-01T14:24:51.405Z"
   },
   {
    "duration": 49,
    "start_time": "2022-09-01T14:24:59.237Z"
   },
   {
    "duration": 159,
    "start_time": "2022-09-01T14:24:59.302Z"
   },
   {
    "duration": 333,
    "start_time": "2022-09-01T14:29:11.388Z"
   },
   {
    "duration": 23,
    "start_time": "2022-09-01T14:35:00.265Z"
   },
   {
    "duration": 329,
    "start_time": "2022-09-01T14:35:03.321Z"
   },
   {
    "duration": 178,
    "start_time": "2022-09-01T14:40:38.048Z"
   },
   {
    "duration": 33,
    "start_time": "2022-09-01T14:43:33.691Z"
   },
   {
    "duration": 348,
    "start_time": "2022-09-01T14:43:47.196Z"
   },
   {
    "duration": 7147,
    "start_time": "2022-09-01T14:45:34.019Z"
   },
   {
    "duration": 3537,
    "start_time": "2022-09-01T14:45:56.274Z"
   },
   {
    "duration": 3941,
    "start_time": "2022-09-01T14:46:06.252Z"
   },
   {
    "duration": 3599,
    "start_time": "2022-09-01T14:48:45.609Z"
   },
   {
    "duration": 64,
    "start_time": "2022-09-01T14:48:49.211Z"
   },
   {
    "duration": 13,
    "start_time": "2022-09-01T14:48:49.277Z"
   },
   {
    "duration": 49,
    "start_time": "2022-09-01T14:48:49.293Z"
   },
   {
    "duration": 5,
    "start_time": "2022-09-01T14:48:49.344Z"
   },
   {
    "duration": 28,
    "start_time": "2022-09-01T14:48:49.351Z"
   },
   {
    "duration": 13,
    "start_time": "2022-09-01T14:48:49.381Z"
   },
   {
    "duration": 12,
    "start_time": "2022-09-01T14:48:49.402Z"
   },
   {
    "duration": 150,
    "start_time": "2022-09-01T14:48:49.415Z"
   },
   {
    "duration": 6,
    "start_time": "2022-09-01T14:48:49.567Z"
   },
   {
    "duration": 5,
    "start_time": "2022-09-01T14:48:49.575Z"
   },
   {
    "duration": 22,
    "start_time": "2022-09-01T14:48:49.582Z"
   },
   {
    "duration": 25,
    "start_time": "2022-09-01T14:48:49.606Z"
   },
   {
    "duration": 15,
    "start_time": "2022-09-01T14:48:49.632Z"
   },
   {
    "duration": 61,
    "start_time": "2022-09-01T14:48:49.648Z"
   },
   {
    "duration": 23,
    "start_time": "2022-09-01T14:48:49.710Z"
   },
   {
    "duration": 505,
    "start_time": "2022-09-01T14:48:49.735Z"
   },
   {
    "duration": 3865,
    "start_time": "2022-09-01T14:48:50.241Z"
   },
   {
    "duration": 1676,
    "start_time": "2022-09-01T14:49:18.462Z"
   },
   {
    "duration": 4635,
    "start_time": "2022-09-01T14:49:25.006Z"
   },
   {
    "duration": 3799,
    "start_time": "2022-09-01T14:49:33.060Z"
   },
   {
    "duration": 274,
    "start_time": "2022-09-01T14:49:51.092Z"
   },
   {
    "duration": 3896,
    "start_time": "2022-09-01T14:50:06.560Z"
   },
   {
    "duration": 3824,
    "start_time": "2022-09-01T14:50:54.423Z"
   },
   {
    "duration": 6492,
    "start_time": "2022-09-01T14:54:20.642Z"
   },
   {
    "duration": 57084,
    "start_time": "2022-09-01T14:55:04.221Z"
   },
   {
    "duration": 101448,
    "start_time": "2022-09-01T14:56:17.638Z"
   },
   {
    "duration": 72,
    "start_time": "2022-09-01T14:58:38.537Z"
   },
   {
    "duration": 325,
    "start_time": "2022-09-01T14:59:03.778Z"
   },
   {
    "duration": 73,
    "start_time": "2022-09-01T15:00:08.741Z"
   },
   {
    "duration": 4433,
    "start_time": "2022-09-02T09:15:24.339Z"
   },
   {
    "duration": 118,
    "start_time": "2022-09-02T09:15:28.774Z"
   },
   {
    "duration": 19,
    "start_time": "2022-09-02T09:15:28.894Z"
   },
   {
    "duration": 78,
    "start_time": "2022-09-02T09:15:28.916Z"
   },
   {
    "duration": 6,
    "start_time": "2022-09-02T09:15:28.996Z"
   },
   {
    "duration": 47,
    "start_time": "2022-09-02T09:15:29.004Z"
   },
   {
    "duration": 39,
    "start_time": "2022-09-02T09:15:29.053Z"
   },
   {
    "duration": 34,
    "start_time": "2022-09-02T09:15:29.094Z"
   },
   {
    "duration": 164,
    "start_time": "2022-09-02T09:15:29.130Z"
   },
   {
    "duration": 7,
    "start_time": "2022-09-02T09:15:29.303Z"
   },
   {
    "duration": 30,
    "start_time": "2022-09-02T09:15:29.312Z"
   },
   {
    "duration": 20,
    "start_time": "2022-09-02T09:15:29.344Z"
   },
   {
    "duration": 43,
    "start_time": "2022-09-02T09:15:29.366Z"
   },
   {
    "duration": 27,
    "start_time": "2022-09-02T09:15:29.411Z"
   },
   {
    "duration": 54,
    "start_time": "2022-09-02T09:15:29.440Z"
   },
   {
    "duration": 117,
    "start_time": "2022-09-02T09:15:29.497Z"
   },
   {
    "duration": 512,
    "start_time": "2022-09-02T09:15:29.616Z"
   },
   {
    "duration": 103022,
    "start_time": "2022-09-02T09:15:30.131Z"
   },
   {
    "duration": 285,
    "start_time": "2022-09-02T09:51:52.518Z"
   },
   {
    "duration": 30,
    "start_time": "2022-09-02T10:07:13.004Z"
   },
   {
    "duration": 75,
    "start_time": "2022-09-02T10:08:58.508Z"
   },
   {
    "duration": 77,
    "start_time": "2022-09-02T10:09:31.830Z"
   },
   {
    "duration": 30,
    "start_time": "2022-09-02T10:09:33.686Z"
   },
   {
    "duration": 79,
    "start_time": "2022-09-02T10:09:35.528Z"
   },
   {
    "duration": 30,
    "start_time": "2022-09-02T10:09:37.709Z"
   },
   {
    "duration": 76,
    "start_time": "2022-09-02T10:09:39.589Z"
   },
   {
    "duration": 122,
    "start_time": "2022-09-02T10:17:12.716Z"
   },
   {
    "duration": 2123,
    "start_time": "2022-09-02T10:17:56.421Z"
   },
   {
    "duration": 16,
    "start_time": "2022-09-02T10:18:02.155Z"
   },
   {
    "duration": 134,
    "start_time": "2022-09-02T10:19:38.077Z"
   },
   {
    "duration": 4,
    "start_time": "2022-09-02T10:20:44.079Z"
   },
   {
    "duration": 36,
    "start_time": "2022-09-02T10:20:52.272Z"
   },
   {
    "duration": 47,
    "start_time": "2022-09-02T10:21:36.674Z"
   },
   {
    "duration": 56,
    "start_time": "2022-09-02T10:22:06.929Z"
   },
   {
    "duration": 45,
    "start_time": "2022-09-02T10:23:13.125Z"
   },
   {
    "duration": 74,
    "start_time": "2022-09-02T10:23:38.131Z"
   },
   {
    "duration": 53,
    "start_time": "2022-09-02T10:23:57.058Z"
   },
   {
    "duration": 3560,
    "start_time": "2022-09-02T10:24:50.205Z"
   },
   {
    "duration": 58,
    "start_time": "2022-09-02T10:24:53.767Z"
   },
   {
    "duration": 12,
    "start_time": "2022-09-02T10:24:53.827Z"
   },
   {
    "duration": 42,
    "start_time": "2022-09-02T10:24:53.841Z"
   },
   {
    "duration": 19,
    "start_time": "2022-09-02T10:24:53.885Z"
   },
   {
    "duration": 11,
    "start_time": "2022-09-02T10:24:53.905Z"
   },
   {
    "duration": 14,
    "start_time": "2022-09-02T10:24:53.918Z"
   },
   {
    "duration": 11,
    "start_time": "2022-09-02T10:24:53.934Z"
   },
   {
    "duration": 163,
    "start_time": "2022-09-02T10:24:53.947Z"
   },
   {
    "duration": 6,
    "start_time": "2022-09-02T10:24:54.114Z"
   },
   {
    "duration": 8,
    "start_time": "2022-09-02T10:24:54.122Z"
   },
   {
    "duration": 5,
    "start_time": "2022-09-02T10:24:54.132Z"
   },
   {
    "duration": 24,
    "start_time": "2022-09-02T10:24:54.139Z"
   },
   {
    "duration": 47,
    "start_time": "2022-09-02T10:24:54.165Z"
   },
   {
    "duration": 37,
    "start_time": "2022-09-02T10:24:54.214Z"
   },
   {
    "duration": 152,
    "start_time": "2022-09-02T10:24:54.253Z"
   },
   {
    "duration": 417,
    "start_time": "2022-09-02T10:24:54.414Z"
   },
   {
    "duration": 99995,
    "start_time": "2022-09-02T10:24:54.833Z"
   },
   {
    "duration": 81,
    "start_time": "2022-09-02T10:26:34.830Z"
   },
   {
    "duration": 222,
    "start_time": "2022-09-02T10:26:34.913Z"
   },
   {
    "duration": 86,
    "start_time": "2022-09-02T10:26:35.136Z"
   },
   {
    "duration": 11,
    "start_time": "2022-09-02T10:26:35.224Z"
   },
   {
    "duration": 70,
    "start_time": "2022-09-02T10:26:35.236Z"
   },
   {
    "duration": 134,
    "start_time": "2022-09-02T10:26:35.308Z"
   },
   {
    "duration": 174,
    "start_time": "2022-09-02T10:26:35.444Z"
   },
   {
    "duration": 48,
    "start_time": "2022-09-02T10:28:33.579Z"
   },
   {
    "duration": 50,
    "start_time": "2022-09-02T10:28:37.304Z"
   },
   {
    "duration": 51,
    "start_time": "2022-09-02T10:28:41.617Z"
   },
   {
    "duration": 50,
    "start_time": "2022-09-02T10:28:45.274Z"
   },
   {
    "duration": 721,
    "start_time": "2022-09-02T10:29:04.610Z"
   },
   {
    "duration": 139,
    "start_time": "2022-09-02T10:29:34.036Z"
   },
   {
    "duration": 4,
    "start_time": "2022-09-02T10:30:28.485Z"
   },
   {
    "duration": 128,
    "start_time": "2022-09-02T10:30:32.261Z"
   },
   {
    "duration": 13,
    "start_time": "2022-09-02T10:38:00.318Z"
   },
   {
    "duration": 13,
    "start_time": "2022-09-02T10:38:21.475Z"
   },
   {
    "duration": 16,
    "start_time": "2022-09-02T10:38:45.979Z"
   },
   {
    "duration": 40,
    "start_time": "2022-09-02T10:39:05.190Z"
   },
   {
    "duration": 3592,
    "start_time": "2022-09-02T10:43:45.554Z"
   },
   {
    "duration": 66,
    "start_time": "2022-09-02T10:43:49.149Z"
   },
   {
    "duration": 15,
    "start_time": "2022-09-02T10:43:49.218Z"
   },
   {
    "duration": 42,
    "start_time": "2022-09-02T10:43:49.236Z"
   },
   {
    "duration": 26,
    "start_time": "2022-09-02T10:43:49.280Z"
   },
   {
    "duration": 13,
    "start_time": "2022-09-02T10:43:49.308Z"
   },
   {
    "duration": 13,
    "start_time": "2022-09-02T10:43:49.323Z"
   },
   {
    "duration": 11,
    "start_time": "2022-09-02T10:43:49.338Z"
   },
   {
    "duration": 158,
    "start_time": "2022-09-02T10:43:49.351Z"
   },
   {
    "duration": 6,
    "start_time": "2022-09-02T10:43:49.511Z"
   },
   {
    "duration": 5,
    "start_time": "2022-09-02T10:43:49.519Z"
   },
   {
    "duration": 23,
    "start_time": "2022-09-02T10:43:49.526Z"
   },
   {
    "duration": 35,
    "start_time": "2022-09-02T10:43:49.550Z"
   },
   {
    "duration": 19,
    "start_time": "2022-09-02T10:43:49.586Z"
   },
   {
    "duration": 35,
    "start_time": "2022-09-02T10:43:49.607Z"
   },
   {
    "duration": 67,
    "start_time": "2022-09-02T10:43:49.644Z"
   },
   {
    "duration": 520,
    "start_time": "2022-09-02T10:43:49.712Z"
   },
   {
    "duration": 101401,
    "start_time": "2022-09-02T10:43:50.233Z"
   },
   {
    "duration": 686,
    "start_time": "2022-09-02T10:45:31.637Z"
   },
   {
    "duration": 117,
    "start_time": "2022-09-02T10:45:32.404Z"
   },
   {
    "duration": 91,
    "start_time": "2022-09-02T10:45:32.524Z"
   },
   {
    "duration": 14,
    "start_time": "2022-09-02T10:45:32.617Z"
   },
   {
    "duration": 71,
    "start_time": "2022-09-02T10:45:32.634Z"
   },
   {
    "duration": 143,
    "start_time": "2022-09-02T10:45:32.707Z"
   },
   {
    "duration": 147,
    "start_time": "2022-09-02T10:45:32.852Z"
   },
   {
    "duration": 12,
    "start_time": "2022-09-02T10:45:33.002Z"
   },
   {
    "duration": 21,
    "start_time": "2022-09-02T10:45:33.016Z"
   },
   {
    "duration": 115,
    "start_time": "2022-09-02T10:45:33.108Z"
   },
   {
    "duration": 38,
    "start_time": "2022-09-02T10:45:33.225Z"
   },
   {
    "duration": 333,
    "start_time": "2022-09-02T10:51:19.951Z"
   },
   {
    "duration": 101672,
    "start_time": "2022-09-02T10:51:52.297Z"
   },
   {
    "duration": 565,
    "start_time": "2022-09-02T10:53:33.970Z"
   },
   {
    "duration": 532,
    "start_time": "2022-09-02T10:55:35.586Z"
   },
   {
    "duration": 189444,
    "start_time": "2022-09-02T10:56:11.530Z"
   },
   {
    "duration": 148,
    "start_time": "2022-09-02T10:59:20.977Z"
   },
   {
    "duration": 150,
    "start_time": "2022-09-02T10:59:21.127Z"
   },
   {
    "duration": 7909,
    "start_time": "2022-09-02T11:01:37.435Z"
   },
   {
    "duration": 76,
    "start_time": "2022-09-02T11:21:56.479Z"
   },
   {
    "duration": 14,
    "start_time": "2022-09-02T11:22:19.540Z"
   },
   {
    "duration": 2094,
    "start_time": "2022-09-02T11:23:02.995Z"
   },
   {
    "duration": 377,
    "start_time": "2022-09-02T11:23:09.545Z"
   },
   {
    "duration": 409,
    "start_time": "2022-09-02T11:23:42.313Z"
   },
   {
    "duration": 473,
    "start_time": "2022-09-02T11:25:09.662Z"
   },
   {
    "duration": 853,
    "start_time": "2022-09-02T11:35:04.569Z"
   },
   {
    "duration": 878,
    "start_time": "2022-09-02T11:35:59.896Z"
   },
   {
    "duration": 831,
    "start_time": "2022-09-02T11:38:12.223Z"
   },
   {
    "duration": 950,
    "start_time": "2022-09-02T11:45:14.919Z"
   },
   {
    "duration": 3559,
    "start_time": "2022-09-02T11:53:53.538Z"
   },
   {
    "duration": 61,
    "start_time": "2022-09-02T11:53:57.100Z"
   },
   {
    "duration": 14,
    "start_time": "2022-09-02T11:53:57.162Z"
   },
   {
    "duration": 48,
    "start_time": "2022-09-02T11:53:57.179Z"
   },
   {
    "duration": 6,
    "start_time": "2022-09-02T11:53:57.229Z"
   },
   {
    "duration": 16,
    "start_time": "2022-09-02T11:53:57.237Z"
   },
   {
    "duration": 19,
    "start_time": "2022-09-02T11:53:57.255Z"
   },
   {
    "duration": 22,
    "start_time": "2022-09-02T11:53:57.276Z"
   },
   {
    "duration": 149,
    "start_time": "2022-09-02T11:53:57.303Z"
   },
   {
    "duration": 7,
    "start_time": "2022-09-02T11:53:57.455Z"
   },
   {
    "duration": 10,
    "start_time": "2022-09-02T11:53:57.464Z"
   },
   {
    "duration": 13,
    "start_time": "2022-09-02T11:53:57.476Z"
   },
   {
    "duration": 48,
    "start_time": "2022-09-02T11:53:57.490Z"
   },
   {
    "duration": 14,
    "start_time": "2022-09-02T11:53:57.540Z"
   },
   {
    "duration": 50,
    "start_time": "2022-09-02T11:53:57.556Z"
   },
   {
    "duration": 96,
    "start_time": "2022-09-02T11:53:57.608Z"
   },
   {
    "duration": 414,
    "start_time": "2022-09-02T11:53:57.706Z"
   },
   {
    "duration": 99788,
    "start_time": "2022-09-02T11:53:58.122Z"
   },
   {
    "duration": 92,
    "start_time": "2022-09-02T11:55:37.912Z"
   },
   {
    "duration": 427,
    "start_time": "2022-09-02T11:55:38.006Z"
   },
   {
    "duration": 100986,
    "start_time": "2022-09-02T11:55:38.435Z"
   },
   {
    "duration": 13,
    "start_time": "2022-09-02T11:57:19.423Z"
   },
   {
    "duration": 66,
    "start_time": "2022-09-02T11:57:19.438Z"
   },
   {
    "duration": 636,
    "start_time": "2022-09-02T11:57:19.506Z"
   },
   {
    "duration": 184603,
    "start_time": "2022-09-02T11:57:20.143Z"
   },
   {
    "duration": 10,
    "start_time": "2022-09-02T12:00:24.748Z"
   },
   {
    "duration": 63,
    "start_time": "2022-09-02T12:00:24.759Z"
   },
   {
    "duration": 239,
    "start_time": "2022-09-02T12:00:24.906Z"
   },
   {
    "duration": 7769,
    "start_time": "2022-09-02T12:00:25.147Z"
   },
   {
    "duration": 980,
    "start_time": "2022-09-02T12:00:32.917Z"
   },
   {
    "duration": 57,
    "start_time": "2022-09-02T12:03:12.871Z"
   },
   {
    "duration": 603,
    "start_time": "2022-09-02T12:03:28.948Z"
   },
   {
    "duration": 558,
    "start_time": "2022-09-02T12:04:39.215Z"
   },
   {
    "duration": 975,
    "start_time": "2022-09-02T12:04:54.547Z"
   },
   {
    "duration": 935,
    "start_time": "2022-09-02T12:06:11.341Z"
   },
   {
    "duration": 1088,
    "start_time": "2022-09-02T12:06:25.078Z"
   },
   {
    "duration": 1049,
    "start_time": "2022-09-02T12:07:16.372Z"
   },
   {
    "duration": 1011,
    "start_time": "2022-09-02T12:07:46.321Z"
   },
   {
    "duration": 1292,
    "start_time": "2022-09-02T12:08:12.225Z"
   },
   {
    "duration": 937,
    "start_time": "2022-09-02T12:09:17.304Z"
   },
   {
    "duration": 1122,
    "start_time": "2022-09-02T12:09:49.199Z"
   },
   {
    "duration": 1118,
    "start_time": "2022-09-02T12:12:04.415Z"
   },
   {
    "duration": 1137,
    "start_time": "2022-09-02T12:15:18.498Z"
   },
   {
    "duration": 917,
    "start_time": "2022-09-02T12:18:39.716Z"
   },
   {
    "duration": 1011,
    "start_time": "2022-09-02T12:18:48.242Z"
   },
   {
    "duration": 3675,
    "start_time": "2022-09-02T12:21:39.086Z"
   },
   {
    "duration": 65,
    "start_time": "2022-09-02T12:21:42.763Z"
   },
   {
    "duration": 14,
    "start_time": "2022-09-02T12:21:42.829Z"
   },
   {
    "duration": 59,
    "start_time": "2022-09-02T12:21:42.845Z"
   },
   {
    "duration": 4,
    "start_time": "2022-09-02T12:21:42.907Z"
   },
   {
    "duration": 14,
    "start_time": "2022-09-02T12:21:42.913Z"
   },
   {
    "duration": 15,
    "start_time": "2022-09-02T12:21:42.929Z"
   },
   {
    "duration": 14,
    "start_time": "2022-09-02T12:21:42.946Z"
   },
   {
    "duration": 186,
    "start_time": "2022-09-02T12:21:42.962Z"
   },
   {
    "duration": 6,
    "start_time": "2022-09-02T12:21:43.150Z"
   },
   {
    "duration": 8,
    "start_time": "2022-09-02T12:21:43.158Z"
   },
   {
    "duration": 6,
    "start_time": "2022-09-02T12:21:43.168Z"
   },
   {
    "duration": 48,
    "start_time": "2022-09-02T12:21:43.176Z"
   },
   {
    "duration": 14,
    "start_time": "2022-09-02T12:21:43.228Z"
   },
   {
    "duration": 66,
    "start_time": "2022-09-02T12:21:43.244Z"
   },
   {
    "duration": 199,
    "start_time": "2022-09-02T12:21:43.312Z"
   },
   {
    "duration": 421,
    "start_time": "2022-09-02T12:21:43.524Z"
   },
   {
    "duration": 106215,
    "start_time": "2022-09-02T12:21:43.947Z"
   },
   {
    "duration": 241,
    "start_time": "2022-09-02T12:23:30.164Z"
   },
   {
    "duration": 438,
    "start_time": "2022-09-02T12:23:30.407Z"
   },
   {
    "duration": 104143,
    "start_time": "2022-09-02T12:23:30.847Z"
   },
   {
    "duration": 21,
    "start_time": "2022-09-02T12:25:14.991Z"
   },
   {
    "duration": 55,
    "start_time": "2022-09-02T12:25:15.014Z"
   },
   {
    "duration": 609,
    "start_time": "2022-09-02T12:25:15.103Z"
   },
   {
    "duration": 190847,
    "start_time": "2022-09-02T12:25:15.713Z"
   },
   {
    "duration": 12,
    "start_time": "2022-09-02T12:28:26.562Z"
   },
   {
    "duration": 38,
    "start_time": "2022-09-02T12:28:26.576Z"
   },
   {
    "duration": 209,
    "start_time": "2022-09-02T12:28:26.702Z"
   },
   {
    "duration": 8102,
    "start_time": "2022-09-02T12:28:26.913Z"
   },
   {
    "duration": 49,
    "start_time": "2022-09-02T12:28:35.017Z"
   },
   {
    "duration": 0,
    "start_time": "2022-09-02T12:28:35.068Z"
   },
   {
    "duration": 593,
    "start_time": "2022-09-02T12:28:51.462Z"
   },
   {
    "duration": 1018,
    "start_time": "2022-09-02T12:29:02.711Z"
   },
   {
    "duration": 51,
    "start_time": "2022-09-02T12:30:58.155Z"
   },
   {
    "duration": 3551,
    "start_time": "2022-09-02T12:31:46.689Z"
   },
   {
    "duration": 59,
    "start_time": "2022-09-02T12:31:50.242Z"
   },
   {
    "duration": 13,
    "start_time": "2022-09-02T12:31:50.303Z"
   },
   {
    "duration": 52,
    "start_time": "2022-09-02T12:31:50.318Z"
   },
   {
    "duration": 4,
    "start_time": "2022-09-02T12:31:50.372Z"
   },
   {
    "duration": 35,
    "start_time": "2022-09-02T12:31:50.378Z"
   },
   {
    "duration": 30,
    "start_time": "2022-09-02T12:31:50.415Z"
   },
   {
    "duration": 28,
    "start_time": "2022-09-02T12:31:50.447Z"
   },
   {
    "duration": 140,
    "start_time": "2022-09-02T12:31:50.477Z"
   },
   {
    "duration": 6,
    "start_time": "2022-09-02T12:31:50.620Z"
   },
   {
    "duration": 18,
    "start_time": "2022-09-02T12:31:50.627Z"
   },
   {
    "duration": 22,
    "start_time": "2022-09-02T12:31:50.647Z"
   },
   {
    "duration": 35,
    "start_time": "2022-09-02T12:31:50.671Z"
   },
   {
    "duration": 13,
    "start_time": "2022-09-02T12:31:50.708Z"
   },
   {
    "duration": 54,
    "start_time": "2022-09-02T12:31:50.723Z"
   },
   {
    "duration": 125,
    "start_time": "2022-09-02T12:31:50.778Z"
   },
   {
    "duration": 419,
    "start_time": "2022-09-02T12:31:50.905Z"
   },
   {
    "duration": 101015,
    "start_time": "2022-09-02T12:31:51.325Z"
   },
   {
    "duration": 70,
    "start_time": "2022-09-02T12:33:32.342Z"
   },
   {
    "duration": 534,
    "start_time": "2022-09-02T12:33:32.413Z"
   },
   {
    "duration": 101365,
    "start_time": "2022-09-02T12:33:32.949Z"
   },
   {
    "duration": 12,
    "start_time": "2022-09-02T12:35:14.316Z"
   },
   {
    "duration": 74,
    "start_time": "2022-09-02T12:35:14.330Z"
   },
   {
    "duration": 618,
    "start_time": "2022-09-02T12:35:14.410Z"
   },
   {
    "duration": 183742,
    "start_time": "2022-09-02T12:35:15.029Z"
   },
   {
    "duration": 10,
    "start_time": "2022-09-02T12:38:18.774Z"
   },
   {
    "duration": 26,
    "start_time": "2022-09-02T12:38:18.786Z"
   },
   {
    "duration": 387,
    "start_time": "2022-09-02T12:38:18.816Z"
   },
   {
    "duration": 7707,
    "start_time": "2022-09-02T12:38:19.205Z"
   },
   {
    "duration": 35,
    "start_time": "2022-09-02T12:38:26.913Z"
   },
   {
    "duration": 1047,
    "start_time": "2022-09-02T12:38:26.950Z"
   },
   {
    "duration": 99951,
    "start_time": "2022-09-02T12:39:10.578Z"
   },
   {
    "duration": 350,
    "start_time": "2022-09-02T12:41:49.681Z"
   },
   {
    "duration": 364,
    "start_time": "2022-09-02T12:42:04.232Z"
   },
   {
    "duration": 349,
    "start_time": "2022-09-02T12:42:09.700Z"
   },
   {
    "duration": 18,
    "start_time": "2022-09-02T12:44:23.224Z"
   },
   {
    "duration": 351,
    "start_time": "2022-09-02T12:44:37.122Z"
   },
   {
    "duration": 99902,
    "start_time": "2022-09-02T12:46:00.697Z"
   },
   {
    "duration": 383,
    "start_time": "2022-09-02T12:49:08.970Z"
   },
   {
    "duration": 323,
    "start_time": "2022-09-02T12:50:42.319Z"
   },
   {
    "duration": 433,
    "start_time": "2022-09-02T12:50:57.592Z"
   },
   {
    "duration": 478,
    "start_time": "2022-09-02T12:51:08.727Z"
   },
   {
    "duration": 73155,
    "start_time": "2022-09-02T12:51:33.230Z"
   },
   {
    "duration": 3356,
    "start_time": "2022-09-02T12:54:19.126Z"
   },
   {
    "duration": 66,
    "start_time": "2022-09-02T12:54:22.484Z"
   },
   {
    "duration": 13,
    "start_time": "2022-09-02T12:54:22.552Z"
   },
   {
    "duration": 47,
    "start_time": "2022-09-02T12:54:22.567Z"
   },
   {
    "duration": 5,
    "start_time": "2022-09-02T12:54:22.616Z"
   },
   {
    "duration": 16,
    "start_time": "2022-09-02T12:54:22.622Z"
   },
   {
    "duration": 14,
    "start_time": "2022-09-02T12:54:22.640Z"
   },
   {
    "duration": 12,
    "start_time": "2022-09-02T12:54:22.656Z"
   },
   {
    "duration": 162,
    "start_time": "2022-09-02T12:54:22.670Z"
   },
   {
    "duration": 6,
    "start_time": "2022-09-02T12:54:22.834Z"
   },
   {
    "duration": 11,
    "start_time": "2022-09-02T12:54:22.842Z"
   },
   {
    "duration": 17,
    "start_time": "2022-09-02T12:54:22.855Z"
   },
   {
    "duration": 34,
    "start_time": "2022-09-02T12:54:22.873Z"
   },
   {
    "duration": 13,
    "start_time": "2022-09-02T12:54:22.909Z"
   },
   {
    "duration": 35,
    "start_time": "2022-09-02T12:54:22.923Z"
   },
   {
    "duration": 152,
    "start_time": "2022-09-02T12:54:22.960Z"
   },
   {
    "duration": 516,
    "start_time": "2022-09-02T12:54:23.204Z"
   },
   {
    "duration": 98481,
    "start_time": "2022-09-02T12:54:23.722Z"
   },
   {
    "duration": 102,
    "start_time": "2022-09-02T12:56:02.204Z"
   },
   {
    "duration": 419,
    "start_time": "2022-09-02T12:56:02.308Z"
   },
   {
    "duration": 99104,
    "start_time": "2022-09-02T12:56:02.729Z"
   },
   {
    "duration": 12,
    "start_time": "2022-09-02T12:57:41.835Z"
   },
   {
    "duration": 57,
    "start_time": "2022-09-02T12:57:41.849Z"
   },
   {
    "duration": 670,
    "start_time": "2022-09-02T12:57:41.908Z"
   },
   {
    "duration": 187351,
    "start_time": "2022-09-02T12:57:42.579Z"
   },
   {
    "duration": 10,
    "start_time": "2022-09-02T13:00:49.932Z"
   },
   {
    "duration": 14,
    "start_time": "2022-09-02T13:00:49.943Z"
   },
   {
    "duration": 228,
    "start_time": "2022-09-02T13:00:50.009Z"
   },
   {
    "duration": 43536,
    "start_time": "2022-09-02T13:00:50.239Z"
   },
   {
    "duration": 102535,
    "start_time": "2022-09-02T13:01:33.776Z"
   },
   {
    "duration": 382,
    "start_time": "2022-09-02T13:03:16.313Z"
   },
   {
    "duration": 1004,
    "start_time": "2022-09-02T13:03:16.697Z"
   },
   {
    "duration": 945,
    "start_time": "2022-09-02T13:07:49.302Z"
   },
   {
    "duration": 984,
    "start_time": "2022-09-02T13:08:26.076Z"
   },
   {
    "duration": 948,
    "start_time": "2022-09-02T13:08:52.248Z"
   },
   {
    "duration": 1053,
    "start_time": "2022-09-02T13:12:03.636Z"
   },
   {
    "duration": 1033,
    "start_time": "2022-09-02T13:13:52.530Z"
   },
   {
    "duration": 1306,
    "start_time": "2022-09-02T13:14:01.919Z"
   },
   {
    "duration": 3673,
    "start_time": "2022-09-02T13:31:48.138Z"
   },
   {
    "duration": 67,
    "start_time": "2022-09-02T13:31:51.814Z"
   },
   {
    "duration": 13,
    "start_time": "2022-09-02T13:31:51.883Z"
   },
   {
    "duration": 48,
    "start_time": "2022-09-02T13:31:51.898Z"
   },
   {
    "duration": 5,
    "start_time": "2022-09-02T13:31:51.949Z"
   },
   {
    "duration": 20,
    "start_time": "2022-09-02T13:31:51.955Z"
   },
   {
    "duration": 55,
    "start_time": "2022-09-02T13:31:51.977Z"
   },
   {
    "duration": 24,
    "start_time": "2022-09-02T13:31:52.034Z"
   },
   {
    "duration": 142,
    "start_time": "2022-09-02T13:31:52.060Z"
   },
   {
    "duration": 6,
    "start_time": "2022-09-02T13:31:52.204Z"
   },
   {
    "duration": 26,
    "start_time": "2022-09-02T13:31:52.212Z"
   },
   {
    "duration": 17,
    "start_time": "2022-09-02T13:31:52.239Z"
   },
   {
    "duration": 38,
    "start_time": "2022-09-02T13:31:52.258Z"
   },
   {
    "duration": 14,
    "start_time": "2022-09-02T13:31:52.299Z"
   },
   {
    "duration": 58,
    "start_time": "2022-09-02T13:31:52.315Z"
   },
   {
    "duration": 132,
    "start_time": "2022-09-02T13:31:52.376Z"
   },
   {
    "duration": 584,
    "start_time": "2022-09-02T13:31:52.511Z"
   },
   {
    "duration": 99696,
    "start_time": "2022-09-02T13:31:53.097Z"
   },
   {
    "duration": 110,
    "start_time": "2022-09-02T13:33:32.794Z"
   },
   {
    "duration": 436,
    "start_time": "2022-09-02T13:33:32.905Z"
   },
   {
    "duration": 99646,
    "start_time": "2022-09-02T13:33:33.342Z"
   },
   {
    "duration": 20,
    "start_time": "2022-09-02T13:35:12.989Z"
   },
   {
    "duration": 31,
    "start_time": "2022-09-02T13:35:13.011Z"
   },
   {
    "duration": 622,
    "start_time": "2022-09-02T13:35:13.102Z"
   },
   {
    "duration": 184469,
    "start_time": "2022-09-02T13:35:13.726Z"
   },
   {
    "duration": 12,
    "start_time": "2022-09-02T13:38:18.197Z"
   },
   {
    "duration": 15,
    "start_time": "2022-09-02T13:38:18.211Z"
   },
   {
    "duration": 248,
    "start_time": "2022-09-02T13:38:18.302Z"
   },
   {
    "duration": 43433,
    "start_time": "2022-09-02T13:38:18.552Z"
   },
   {
    "duration": 1334,
    "start_time": "2022-09-02T13:39:01.987Z"
   },
   {
    "duration": 1390,
    "start_time": "2022-09-02T13:40:47.586Z"
   },
   {
    "duration": 13141,
    "start_time": "2022-09-02T13:54:03.910Z"
   },
   {
    "duration": 99,
    "start_time": "2022-09-02T13:54:17.053Z"
   },
   {
    "duration": 12,
    "start_time": "2022-09-02T13:54:17.154Z"
   },
   {
    "duration": 93,
    "start_time": "2022-09-02T13:54:17.169Z"
   },
   {
    "duration": 5,
    "start_time": "2022-09-02T13:54:17.265Z"
   },
   {
    "duration": 77,
    "start_time": "2022-09-02T13:54:17.271Z"
   },
   {
    "duration": 15,
    "start_time": "2022-09-02T13:54:17.350Z"
   },
   {
    "duration": 10,
    "start_time": "2022-09-02T13:54:17.368Z"
   },
   {
    "duration": 210,
    "start_time": "2022-09-02T13:54:17.438Z"
   },
   {
    "duration": 5,
    "start_time": "2022-09-02T13:54:17.651Z"
   },
   {
    "duration": 8,
    "start_time": "2022-09-02T13:54:17.658Z"
   },
   {
    "duration": 71,
    "start_time": "2022-09-02T13:54:17.668Z"
   },
   {
    "duration": 21,
    "start_time": "2022-09-02T13:54:17.741Z"
   },
   {
    "duration": 14,
    "start_time": "2022-09-02T13:54:17.764Z"
   },
   {
    "duration": 34,
    "start_time": "2022-09-02T13:54:17.839Z"
   },
   {
    "duration": 167,
    "start_time": "2022-09-02T13:54:17.875Z"
   },
   {
    "duration": 929,
    "start_time": "2022-09-02T13:54:18.044Z"
   },
   {
    "duration": 178979,
    "start_time": "2022-09-02T13:54:18.975Z"
   },
   {
    "duration": 187,
    "start_time": "2022-09-02T13:57:17.956Z"
   },
   {
    "duration": 706,
    "start_time": "2022-09-02T13:57:18.145Z"
   },
   {
    "duration": 186625,
    "start_time": "2022-09-02T13:57:18.852Z"
   },
   {
    "duration": 69,
    "start_time": "2022-09-02T14:00:25.479Z"
   },
   {
    "duration": 98,
    "start_time": "2022-09-02T14:00:25.549Z"
   },
   {
    "duration": 939,
    "start_time": "2022-09-02T14:00:25.740Z"
   },
   {
    "duration": 264886,
    "start_time": "2022-09-02T14:00:26.738Z"
   },
   {
    "duration": 12,
    "start_time": "2022-09-02T14:04:51.626Z"
   },
   {
    "duration": 14,
    "start_time": "2022-09-02T14:04:51.639Z"
   },
   {
    "duration": 308,
    "start_time": "2022-09-02T14:04:51.657Z"
   },
   {
    "duration": 37917,
    "start_time": "2022-09-02T14:04:51.967Z"
   },
   {
    "duration": 1165,
    "start_time": "2022-09-02T14:05:29.885Z"
   },
   {
    "duration": 75,
    "start_time": "2022-09-04T09:14:32.556Z"
   },
   {
    "duration": 70,
    "start_time": "2022-09-04T09:17:12.807Z"
   },
   {
    "duration": 4773,
    "start_time": "2022-09-04T09:27:38.944Z"
   },
   {
    "duration": 199,
    "start_time": "2022-09-04T09:27:43.719Z"
   },
   {
    "duration": 13,
    "start_time": "2022-09-04T09:27:43.920Z"
   },
   {
    "duration": 58,
    "start_time": "2022-09-04T09:27:43.935Z"
   },
   {
    "duration": 6,
    "start_time": "2022-09-04T09:27:43.998Z"
   },
   {
    "duration": 25,
    "start_time": "2022-09-04T09:27:44.007Z"
   },
   {
    "duration": 17,
    "start_time": "2022-09-04T09:27:44.034Z"
   },
   {
    "duration": 12,
    "start_time": "2022-09-04T09:27:44.053Z"
   },
   {
    "duration": 168,
    "start_time": "2022-09-04T09:27:44.092Z"
   },
   {
    "duration": 6,
    "start_time": "2022-09-04T09:27:44.262Z"
   },
   {
    "duration": 7,
    "start_time": "2022-09-04T09:27:44.269Z"
   },
   {
    "duration": 7,
    "start_time": "2022-09-04T09:27:44.292Z"
   },
   {
    "duration": 27,
    "start_time": "2022-09-04T09:27:44.301Z"
   },
   {
    "duration": 14,
    "start_time": "2022-09-04T09:27:44.331Z"
   },
   {
    "duration": 11,
    "start_time": "2022-09-04T09:27:44.346Z"
   },
   {
    "duration": 72,
    "start_time": "2022-09-04T09:27:44.359Z"
   },
   {
    "duration": 860,
    "start_time": "2022-09-04T09:27:44.433Z"
   },
   {
    "duration": 1009,
    "start_time": "2022-09-04T09:27:45.296Z"
   },
   {
    "duration": 102867,
    "start_time": "2022-09-04T09:27:46.307Z"
   },
   {
    "duration": 121,
    "start_time": "2022-09-04T09:29:29.176Z"
   },
   {
    "duration": 457,
    "start_time": "2022-09-04T09:29:29.300Z"
   },
   {
    "duration": 103960,
    "start_time": "2022-09-04T09:29:29.759Z"
   },
   {
    "duration": 12,
    "start_time": "2022-09-04T09:31:13.721Z"
   },
   {
    "duration": 59,
    "start_time": "2022-09-04T09:31:13.735Z"
   },
   {
    "duration": 644,
    "start_time": "2022-09-04T09:31:13.797Z"
   },
   {
    "duration": 89479,
    "start_time": "2022-09-04T09:31:14.442Z"
   },
   {
    "duration": 0,
    "start_time": "2022-09-04T09:32:43.924Z"
   },
   {
    "duration": 0,
    "start_time": "2022-09-04T09:32:43.925Z"
   },
   {
    "duration": 0,
    "start_time": "2022-09-04T09:32:43.927Z"
   },
   {
    "duration": 0,
    "start_time": "2022-09-04T09:32:43.928Z"
   },
   {
    "duration": 1,
    "start_time": "2022-09-04T09:32:43.929Z"
   },
   {
    "duration": 0,
    "start_time": "2022-09-04T09:32:43.931Z"
   },
   {
    "duration": 3897,
    "start_time": "2022-09-04T09:32:48.056Z"
   },
   {
    "duration": 72,
    "start_time": "2022-09-04T09:32:51.956Z"
   },
   {
    "duration": 16,
    "start_time": "2022-09-04T09:32:52.030Z"
   },
   {
    "duration": 62,
    "start_time": "2022-09-04T09:32:52.048Z"
   },
   {
    "duration": 5,
    "start_time": "2022-09-04T09:32:52.113Z"
   },
   {
    "duration": 18,
    "start_time": "2022-09-04T09:32:52.119Z"
   },
   {
    "duration": 13,
    "start_time": "2022-09-04T09:32:52.139Z"
   },
   {
    "duration": 12,
    "start_time": "2022-09-04T09:32:52.154Z"
   },
   {
    "duration": 140,
    "start_time": "2022-09-04T09:32:52.192Z"
   },
   {
    "duration": 7,
    "start_time": "2022-09-04T09:32:52.334Z"
   },
   {
    "duration": 19,
    "start_time": "2022-09-04T09:32:52.343Z"
   },
   {
    "duration": 6,
    "start_time": "2022-09-04T09:32:52.364Z"
   },
   {
    "duration": 34,
    "start_time": "2022-09-04T09:32:52.372Z"
   },
   {
    "duration": 3,
    "start_time": "2022-09-04T09:32:52.409Z"
   },
   {
    "duration": 25,
    "start_time": "2022-09-04T09:32:52.413Z"
   },
   {
    "duration": 57,
    "start_time": "2022-09-04T09:32:52.440Z"
   },
   {
    "duration": 195,
    "start_time": "2022-09-04T09:32:52.498Z"
   },
   {
    "duration": 541,
    "start_time": "2022-09-04T09:32:52.695Z"
   },
   {
    "duration": 9325,
    "start_time": "2022-09-04T09:32:53.237Z"
   },
   {
    "duration": 0,
    "start_time": "2022-09-04T09:33:02.565Z"
   },
   {
    "duration": 0,
    "start_time": "2022-09-04T09:33:02.566Z"
   },
   {
    "duration": 0,
    "start_time": "2022-09-04T09:33:02.568Z"
   },
   {
    "duration": 0,
    "start_time": "2022-09-04T09:33:02.570Z"
   },
   {
    "duration": 0,
    "start_time": "2022-09-04T09:33:02.587Z"
   },
   {
    "duration": 0,
    "start_time": "2022-09-04T09:33:02.588Z"
   },
   {
    "duration": 0,
    "start_time": "2022-09-04T09:33:02.591Z"
   },
   {
    "duration": 0,
    "start_time": "2022-09-04T09:33:02.592Z"
   },
   {
    "duration": 0,
    "start_time": "2022-09-04T09:33:02.593Z"
   },
   {
    "duration": 0,
    "start_time": "2022-09-04T09:33:02.594Z"
   },
   {
    "duration": 0,
    "start_time": "2022-09-04T09:33:02.595Z"
   },
   {
    "duration": 0,
    "start_time": "2022-09-04T09:33:02.596Z"
   },
   {
    "duration": 3664,
    "start_time": "2022-09-04T09:37:46.744Z"
   },
   {
    "duration": 60,
    "start_time": "2022-09-04T09:37:50.411Z"
   },
   {
    "duration": 13,
    "start_time": "2022-09-04T09:37:50.473Z"
   },
   {
    "duration": 47,
    "start_time": "2022-09-04T09:37:50.487Z"
   },
   {
    "duration": 5,
    "start_time": "2022-09-04T09:37:50.537Z"
   },
   {
    "duration": 13,
    "start_time": "2022-09-04T09:37:50.544Z"
   },
   {
    "duration": 33,
    "start_time": "2022-09-04T09:37:50.559Z"
   },
   {
    "duration": 12,
    "start_time": "2022-09-04T09:37:50.595Z"
   },
   {
    "duration": 144,
    "start_time": "2022-09-04T09:37:50.609Z"
   },
   {
    "duration": 7,
    "start_time": "2022-09-04T09:37:50.755Z"
   },
   {
    "duration": 6,
    "start_time": "2022-09-04T09:37:50.763Z"
   },
   {
    "duration": 21,
    "start_time": "2022-09-04T09:37:50.771Z"
   },
   {
    "duration": 31,
    "start_time": "2022-09-04T09:37:50.794Z"
   },
   {
    "duration": 3,
    "start_time": "2022-09-04T09:37:50.827Z"
   },
   {
    "duration": 13,
    "start_time": "2022-09-04T09:37:50.831Z"
   },
   {
    "duration": 57,
    "start_time": "2022-09-04T09:37:50.846Z"
   },
   {
    "duration": 188,
    "start_time": "2022-09-04T09:37:50.905Z"
   },
   {
    "duration": 600,
    "start_time": "2022-09-04T09:37:51.099Z"
   },
   {
    "duration": 15304,
    "start_time": "2022-09-04T09:37:51.701Z"
   },
   {
    "duration": 0,
    "start_time": "2022-09-04T09:38:07.007Z"
   },
   {
    "duration": 0,
    "start_time": "2022-09-04T09:38:07.008Z"
   },
   {
    "duration": 0,
    "start_time": "2022-09-04T09:38:07.009Z"
   },
   {
    "duration": 0,
    "start_time": "2022-09-04T09:38:07.010Z"
   },
   {
    "duration": 0,
    "start_time": "2022-09-04T09:38:07.012Z"
   },
   {
    "duration": 0,
    "start_time": "2022-09-04T09:38:07.012Z"
   },
   {
    "duration": 0,
    "start_time": "2022-09-04T09:38:07.014Z"
   },
   {
    "duration": 0,
    "start_time": "2022-09-04T09:38:07.015Z"
   },
   {
    "duration": 0,
    "start_time": "2022-09-04T09:38:07.016Z"
   },
   {
    "duration": 0,
    "start_time": "2022-09-04T09:38:07.017Z"
   },
   {
    "duration": 0,
    "start_time": "2022-09-04T09:38:07.018Z"
   },
   {
    "duration": 0,
    "start_time": "2022-09-04T09:38:07.019Z"
   },
   {
    "duration": 5360,
    "start_time": "2022-09-04T09:40:19.240Z"
   },
   {
    "duration": 61,
    "start_time": "2022-09-04T09:40:24.602Z"
   },
   {
    "duration": 14,
    "start_time": "2022-09-04T09:40:24.666Z"
   },
   {
    "duration": 62,
    "start_time": "2022-09-04T09:40:24.683Z"
   },
   {
    "duration": 6,
    "start_time": "2022-09-04T09:40:24.747Z"
   },
   {
    "duration": 15,
    "start_time": "2022-09-04T09:40:24.754Z"
   },
   {
    "duration": 32,
    "start_time": "2022-09-04T09:40:24.771Z"
   },
   {
    "duration": 12,
    "start_time": "2022-09-04T09:40:24.805Z"
   },
   {
    "duration": 181,
    "start_time": "2022-09-04T09:40:24.820Z"
   },
   {
    "duration": 7,
    "start_time": "2022-09-04T09:40:25.003Z"
   },
   {
    "duration": 10,
    "start_time": "2022-09-04T09:40:25.011Z"
   },
   {
    "duration": 11,
    "start_time": "2022-09-04T09:40:25.023Z"
   },
   {
    "duration": 34,
    "start_time": "2022-09-04T09:40:25.035Z"
   },
   {
    "duration": 3,
    "start_time": "2022-09-04T09:40:25.091Z"
   },
   {
    "duration": 25,
    "start_time": "2022-09-04T09:40:25.096Z"
   },
   {
    "duration": 39,
    "start_time": "2022-09-04T09:40:25.123Z"
   },
   {
    "duration": 134,
    "start_time": "2022-09-04T09:40:25.163Z"
   },
   {
    "duration": 628,
    "start_time": "2022-09-04T09:40:25.299Z"
   },
   {
    "duration": 62964,
    "start_time": "2022-09-04T09:40:25.929Z"
   },
   {
    "duration": 0,
    "start_time": "2022-09-04T09:41:28.896Z"
   },
   {
    "duration": 0,
    "start_time": "2022-09-04T09:41:28.897Z"
   },
   {
    "duration": 0,
    "start_time": "2022-09-04T09:41:28.898Z"
   },
   {
    "duration": 0,
    "start_time": "2022-09-04T09:41:28.899Z"
   },
   {
    "duration": 0,
    "start_time": "2022-09-04T09:41:28.900Z"
   },
   {
    "duration": 0,
    "start_time": "2022-09-04T09:41:28.902Z"
   },
   {
    "duration": 0,
    "start_time": "2022-09-04T09:41:28.903Z"
   },
   {
    "duration": 0,
    "start_time": "2022-09-04T09:41:28.904Z"
   },
   {
    "duration": 0,
    "start_time": "2022-09-04T09:41:28.905Z"
   },
   {
    "duration": 0,
    "start_time": "2022-09-04T09:41:28.907Z"
   },
   {
    "duration": 0,
    "start_time": "2022-09-04T09:41:28.923Z"
   },
   {
    "duration": 0,
    "start_time": "2022-09-04T09:41:28.924Z"
   },
   {
    "duration": 17,
    "start_time": "2022-09-04T09:41:39.596Z"
   },
   {
    "duration": 18,
    "start_time": "2022-09-04T09:41:47.755Z"
   },
   {
    "duration": 21,
    "start_time": "2022-09-04T09:41:55.794Z"
   },
   {
    "duration": 18,
    "start_time": "2022-09-04T09:42:04.314Z"
   },
   {
    "duration": 22,
    "start_time": "2022-09-04T09:42:10.192Z"
   },
   {
    "duration": 130,
    "start_time": "2022-09-04T09:46:18.564Z"
   },
   {
    "duration": 190,
    "start_time": "2022-09-04T09:47:53.203Z"
   },
   {
    "duration": 506,
    "start_time": "2022-09-04T09:51:07.278Z"
   },
   {
    "duration": 104734,
    "start_time": "2022-09-04T09:53:36.636Z"
   },
   {
    "duration": 62421,
    "start_time": "2022-09-04T09:56:19.142Z"
   },
   {
    "duration": 0,
    "start_time": "2022-09-04T09:57:21.566Z"
   },
   {
    "duration": 508,
    "start_time": "2022-09-04T09:57:22.995Z"
   },
   {
    "duration": 516,
    "start_time": "2022-09-04T09:57:44.177Z"
   },
   {
    "duration": 103684,
    "start_time": "2022-09-04T09:59:07.158Z"
   },
   {
    "duration": 104519,
    "start_time": "2022-09-04T10:04:40.631Z"
   },
   {
    "duration": 111138,
    "start_time": "2022-09-04T10:07:47.350Z"
   },
   {
    "duration": 303,
    "start_time": "2022-09-04T10:09:38.491Z"
   },
   {
    "duration": 151,
    "start_time": "2022-09-04T10:11:07.941Z"
   },
   {
    "duration": 391,
    "start_time": "2022-09-04T10:12:14.743Z"
   },
   {
    "duration": 112218,
    "start_time": "2022-09-04T10:13:00.986Z"
   },
   {
    "duration": 110,
    "start_time": "2022-09-04T10:33:45.031Z"
   },
   {
    "duration": 119,
    "start_time": "2022-09-04T10:34:53.338Z"
   },
   {
    "duration": 11,
    "start_time": "2022-09-04T10:35:12.936Z"
   },
   {
    "duration": 111,
    "start_time": "2022-09-04T10:36:02.781Z"
   },
   {
    "duration": 58,
    "start_time": "2022-09-04T10:36:54.535Z"
   },
   {
    "duration": 59,
    "start_time": "2022-09-04T10:37:14.843Z"
   },
   {
    "duration": 511,
    "start_time": "2022-09-04T10:37:31.431Z"
   },
   {
    "duration": 110127,
    "start_time": "2022-09-04T10:37:40.098Z"
   },
   {
    "duration": 269,
    "start_time": "2022-09-04T10:39:30.227Z"
   },
   {
    "duration": 474,
    "start_time": "2022-09-04T10:39:30.499Z"
   },
   {
    "duration": 110421,
    "start_time": "2022-09-04T10:39:30.974Z"
   },
   {
    "duration": 28,
    "start_time": "2022-09-04T10:41:21.397Z"
   },
   {
    "duration": 442,
    "start_time": "2022-09-04T10:42:37.227Z"
   },
   {
    "duration": 146529,
    "start_time": "2022-09-04T10:48:29.128Z"
   },
   {
    "duration": 91,
    "start_time": "2022-09-04T10:50:55.660Z"
   },
   {
    "duration": 10,
    "start_time": "2022-09-04T10:53:40.140Z"
   },
   {
    "duration": 40,
    "start_time": "2022-09-04T10:54:22.256Z"
   },
   {
    "duration": 216,
    "start_time": "2022-09-04T10:55:05.260Z"
   },
   {
    "duration": 68564,
    "start_time": "2022-09-04T10:56:07.742Z"
   },
   {
    "duration": 3787,
    "start_time": "2022-09-04T11:05:41.251Z"
   },
   {
    "duration": 64,
    "start_time": "2022-09-04T11:05:45.040Z"
   },
   {
    "duration": 14,
    "start_time": "2022-09-04T11:05:45.106Z"
   },
   {
    "duration": 55,
    "start_time": "2022-09-04T11:05:45.122Z"
   },
   {
    "duration": 12,
    "start_time": "2022-09-04T11:05:45.180Z"
   },
   {
    "duration": 21,
    "start_time": "2022-09-04T11:05:45.194Z"
   },
   {
    "duration": 36,
    "start_time": "2022-09-04T11:05:45.216Z"
   },
   {
    "duration": 12,
    "start_time": "2022-09-04T11:05:45.254Z"
   },
   {
    "duration": 147,
    "start_time": "2022-09-04T11:05:45.268Z"
   },
   {
    "duration": 6,
    "start_time": "2022-09-04T11:05:45.417Z"
   },
   {
    "duration": 8,
    "start_time": "2022-09-04T11:05:45.425Z"
   },
   {
    "duration": 8,
    "start_time": "2022-09-04T11:05:45.435Z"
   },
   {
    "duration": 49,
    "start_time": "2022-09-04T11:05:45.444Z"
   },
   {
    "duration": 3,
    "start_time": "2022-09-04T11:05:45.496Z"
   },
   {
    "duration": 28,
    "start_time": "2022-09-04T11:05:45.501Z"
   },
   {
    "duration": 61,
    "start_time": "2022-09-04T11:05:45.531Z"
   },
   {
    "duration": 103,
    "start_time": "2022-09-04T11:05:45.594Z"
   },
   {
    "duration": 647,
    "start_time": "2022-09-04T11:05:45.699Z"
   },
   {
    "duration": 113090,
    "start_time": "2022-09-04T11:05:46.348Z"
   },
   {
    "duration": 158,
    "start_time": "2022-09-04T11:07:39.439Z"
   },
   {
    "duration": 478,
    "start_time": "2022-09-04T11:07:39.600Z"
   },
   {
    "duration": 113186,
    "start_time": "2022-09-04T11:07:40.080Z"
   },
   {
    "duration": 10,
    "start_time": "2022-09-04T11:09:33.268Z"
   },
   {
    "duration": 39,
    "start_time": "2022-09-04T11:09:33.280Z"
   },
   {
    "duration": 576,
    "start_time": "2022-09-04T11:09:33.395Z"
   },
   {
    "duration": 153199,
    "start_time": "2022-09-04T11:09:33.973Z"
   },
   {
    "duration": 24,
    "start_time": "2022-09-04T11:12:07.175Z"
   },
   {
    "duration": 92,
    "start_time": "2022-09-04T11:12:07.211Z"
   },
   {
    "duration": 327,
    "start_time": "2022-09-04T11:12:07.306Z"
   },
   {
    "duration": 72962,
    "start_time": "2022-09-04T11:12:07.635Z"
   },
   {
    "duration": 1184,
    "start_time": "2022-09-04T11:13:20.599Z"
   },
   {
    "duration": 861,
    "start_time": "2022-09-04T11:20:22.549Z"
   },
   {
    "duration": 1197,
    "start_time": "2022-09-04T11:21:55.619Z"
   },
   {
    "duration": 1291,
    "start_time": "2022-09-04T11:28:54.359Z"
   },
   {
    "duration": 908,
    "start_time": "2022-09-04T11:29:08.456Z"
   },
   {
    "duration": 914,
    "start_time": "2022-09-04T11:29:55.441Z"
   },
   {
    "duration": 899,
    "start_time": "2022-09-04T11:30:38.548Z"
   },
   {
    "duration": 905,
    "start_time": "2022-09-04T11:31:35.180Z"
   },
   {
    "duration": 791,
    "start_time": "2022-09-04T11:33:34.668Z"
   },
   {
    "duration": 683,
    "start_time": "2022-09-04T11:34:02.158Z"
   },
   {
    "duration": 795,
    "start_time": "2022-09-04T11:34:19.952Z"
   },
   {
    "duration": 663,
    "start_time": "2022-09-04T11:34:40.046Z"
   },
   {
    "duration": 900,
    "start_time": "2022-09-04T11:39:13.958Z"
   },
   {
    "duration": 120,
    "start_time": "2022-09-04T11:43:44.394Z"
   },
   {
    "duration": 904,
    "start_time": "2022-09-04T11:44:54.557Z"
   },
   {
    "duration": 1096,
    "start_time": "2022-09-04T11:46:01.049Z"
   },
   {
    "duration": 941,
    "start_time": "2022-09-04T11:49:03.089Z"
   },
   {
    "duration": 943,
    "start_time": "2022-09-04T11:53:25.786Z"
   },
   {
    "duration": 4450,
    "start_time": "2022-09-04T11:54:22.157Z"
   },
   {
    "duration": 66,
    "start_time": "2022-09-04T11:54:26.610Z"
   },
   {
    "duration": 20,
    "start_time": "2022-09-04T11:54:26.678Z"
   },
   {
    "duration": 88,
    "start_time": "2022-09-04T11:54:26.700Z"
   },
   {
    "duration": 6,
    "start_time": "2022-09-04T11:54:26.791Z"
   },
   {
    "duration": 60,
    "start_time": "2022-09-04T11:54:26.799Z"
   },
   {
    "duration": 25,
    "start_time": "2022-09-04T11:54:26.861Z"
   },
   {
    "duration": 60,
    "start_time": "2022-09-04T11:54:26.888Z"
   },
   {
    "duration": 186,
    "start_time": "2022-09-04T11:54:26.950Z"
   },
   {
    "duration": 7,
    "start_time": "2022-09-04T11:54:27.137Z"
   },
   {
    "duration": 20,
    "start_time": "2022-09-04T11:54:27.146Z"
   },
   {
    "duration": 8,
    "start_time": "2022-09-04T11:54:27.167Z"
   },
   {
    "duration": 50,
    "start_time": "2022-09-04T11:54:27.177Z"
   },
   {
    "duration": 3,
    "start_time": "2022-09-04T11:54:27.230Z"
   },
   {
    "duration": 20,
    "start_time": "2022-09-04T11:54:27.234Z"
   },
   {
    "duration": 71,
    "start_time": "2022-09-04T11:54:27.256Z"
   },
   {
    "duration": 170,
    "start_time": "2022-09-04T11:54:27.329Z"
   },
   {
    "duration": 656,
    "start_time": "2022-09-04T11:54:27.501Z"
   },
   {
    "duration": 130248,
    "start_time": "2022-09-04T11:54:28.159Z"
   },
   {
    "duration": 189,
    "start_time": "2022-09-04T11:56:38.409Z"
   },
   {
    "duration": 516,
    "start_time": "2022-09-04T11:56:38.615Z"
   },
   {
    "duration": 28580,
    "start_time": "2022-09-04T11:56:39.133Z"
   },
   {
    "duration": 0,
    "start_time": "2022-09-04T11:57:07.716Z"
   },
   {
    "duration": 0,
    "start_time": "2022-09-04T11:57:07.718Z"
   },
   {
    "duration": 0,
    "start_time": "2022-09-04T11:57:07.720Z"
   },
   {
    "duration": 0,
    "start_time": "2022-09-04T11:57:07.721Z"
   },
   {
    "duration": 0,
    "start_time": "2022-09-04T11:57:07.722Z"
   },
   {
    "duration": 0,
    "start_time": "2022-09-04T11:57:07.723Z"
   },
   {
    "duration": 0,
    "start_time": "2022-09-04T11:57:07.724Z"
   },
   {
    "duration": 1,
    "start_time": "2022-09-04T11:57:07.725Z"
   },
   {
    "duration": 0,
    "start_time": "2022-09-04T11:57:07.727Z"
   },
   {
    "duration": 1589,
    "start_time": "2022-09-04T11:57:25.956Z"
   },
   {
    "duration": 77,
    "start_time": "2022-09-04T11:57:27.547Z"
   },
   {
    "duration": 15,
    "start_time": "2022-09-04T11:57:27.627Z"
   },
   {
    "duration": 60,
    "start_time": "2022-09-04T11:57:27.645Z"
   },
   {
    "duration": 32,
    "start_time": "2022-09-04T11:57:27.708Z"
   },
   {
    "duration": 18,
    "start_time": "2022-09-04T11:57:27.743Z"
   },
   {
    "duration": 19,
    "start_time": "2022-09-04T11:57:27.764Z"
   },
   {
    "duration": 14,
    "start_time": "2022-09-04T11:57:27.785Z"
   },
   {
    "duration": 206,
    "start_time": "2022-09-04T11:57:27.801Z"
   },
   {
    "duration": 13,
    "start_time": "2022-09-04T11:57:28.009Z"
   },
   {
    "duration": 28,
    "start_time": "2022-09-04T11:57:28.024Z"
   },
   {
    "duration": 9,
    "start_time": "2022-09-04T11:57:28.054Z"
   },
   {
    "duration": 35,
    "start_time": "2022-09-04T11:57:28.065Z"
   },
   {
    "duration": 4,
    "start_time": "2022-09-04T11:57:28.103Z"
   },
   {
    "duration": 37,
    "start_time": "2022-09-04T11:57:28.108Z"
   },
   {
    "duration": 43,
    "start_time": "2022-09-04T11:57:28.146Z"
   },
   {
    "duration": 416,
    "start_time": "2022-09-04T11:57:28.190Z"
   },
   {
    "duration": 702,
    "start_time": "2022-09-04T11:57:28.621Z"
   },
   {
    "duration": 124243,
    "start_time": "2022-09-04T11:57:29.326Z"
   },
   {
    "duration": 135,
    "start_time": "2022-09-04T11:59:33.571Z"
   },
   {
    "duration": 586,
    "start_time": "2022-09-04T11:59:33.708Z"
   },
   {
    "duration": 124610,
    "start_time": "2022-09-04T11:59:34.296Z"
   },
   {
    "duration": 16,
    "start_time": "2022-09-04T12:01:38.908Z"
   },
   {
    "duration": 78,
    "start_time": "2022-09-04T12:01:38.926Z"
   },
   {
    "duration": 692,
    "start_time": "2022-09-04T12:01:39.008Z"
   },
   {
    "duration": 165733,
    "start_time": "2022-09-04T12:01:39.705Z"
   },
   {
    "duration": 11,
    "start_time": "2022-09-04T12:04:25.439Z"
   },
   {
    "duration": 45,
    "start_time": "2022-09-04T12:04:25.452Z"
   },
   {
    "duration": 404,
    "start_time": "2022-09-04T12:04:25.499Z"
   },
   {
    "duration": 77634,
    "start_time": "2022-09-04T12:04:25.906Z"
   },
   {
    "duration": 945,
    "start_time": "2022-09-04T12:05:43.542Z"
   },
   {
    "duration": 121,
    "start_time": "2022-09-04T12:05:44.492Z"
   },
   {
    "duration": 99,
    "start_time": "2022-09-04T12:06:47.050Z"
   },
   {
    "duration": 19,
    "start_time": "2022-09-04T12:10:15.366Z"
   },
   {
    "duration": 89,
    "start_time": "2022-09-04T12:10:20.585Z"
   },
   {
    "duration": 17,
    "start_time": "2022-09-04T12:10:25.166Z"
   },
   {
    "duration": 1641,
    "start_time": "2022-09-04T12:10:48.754Z"
   },
   {
    "duration": 76,
    "start_time": "2022-09-04T12:10:50.398Z"
   },
   {
    "duration": 15,
    "start_time": "2022-09-04T12:10:50.476Z"
   },
   {
    "duration": 76,
    "start_time": "2022-09-04T12:10:50.493Z"
   },
   {
    "duration": 5,
    "start_time": "2022-09-04T12:10:50.571Z"
   },
   {
    "duration": 20,
    "start_time": "2022-09-04T12:10:50.578Z"
   },
   {
    "duration": 30,
    "start_time": "2022-09-04T12:10:50.600Z"
   },
   {
    "duration": 13,
    "start_time": "2022-09-04T12:10:50.631Z"
   },
   {
    "duration": 143,
    "start_time": "2022-09-04T12:10:50.645Z"
   },
   {
    "duration": 9,
    "start_time": "2022-09-04T12:10:50.794Z"
   },
   {
    "duration": 22,
    "start_time": "2022-09-04T12:10:50.804Z"
   },
   {
    "duration": 7,
    "start_time": "2022-09-04T12:10:50.828Z"
   },
   {
    "duration": 26,
    "start_time": "2022-09-04T12:10:50.836Z"
   },
   {
    "duration": 2,
    "start_time": "2022-09-04T12:10:50.865Z"
   },
   {
    "duration": 39,
    "start_time": "2022-09-04T12:10:50.869Z"
   },
   {
    "duration": 56,
    "start_time": "2022-09-04T12:10:50.910Z"
   },
   {
    "duration": 157,
    "start_time": "2022-09-04T12:10:50.968Z"
   },
   {
    "duration": 678,
    "start_time": "2022-09-04T12:10:51.205Z"
   },
   {
    "duration": 122816,
    "start_time": "2022-09-04T12:10:51.885Z"
   },
   {
    "duration": 210,
    "start_time": "2022-09-04T12:12:54.704Z"
   },
   {
    "duration": 578,
    "start_time": "2022-09-04T12:12:54.924Z"
   },
   {
    "duration": 127450,
    "start_time": "2022-09-04T12:12:55.505Z"
   },
   {
    "duration": 12,
    "start_time": "2022-09-04T12:15:02.956Z"
   },
   {
    "duration": 148,
    "start_time": "2022-09-04T12:15:02.970Z"
   },
   {
    "duration": 626,
    "start_time": "2022-09-04T12:15:03.121Z"
   },
   {
    "duration": 166686,
    "start_time": "2022-09-04T12:15:03.749Z"
   },
   {
    "duration": 11,
    "start_time": "2022-09-04T12:17:50.438Z"
   },
   {
    "duration": 55,
    "start_time": "2022-09-04T12:17:50.451Z"
   },
   {
    "duration": 389,
    "start_time": "2022-09-04T12:17:50.509Z"
   },
   {
    "duration": 81382,
    "start_time": "2022-09-04T12:17:50.901Z"
   },
   {
    "duration": 1001,
    "start_time": "2022-09-04T12:19:12.286Z"
   },
   {
    "duration": 922,
    "start_time": "2022-09-04T20:00:00.599Z"
   },
   {
    "duration": 1,
    "start_time": "2022-09-04T20:00:01.524Z"
   },
   {
    "duration": 0,
    "start_time": "2022-09-04T20:00:01.527Z"
   },
   {
    "duration": 0,
    "start_time": "2022-09-04T20:00:01.528Z"
   },
   {
    "duration": 0,
    "start_time": "2022-09-04T20:00:01.530Z"
   },
   {
    "duration": 0,
    "start_time": "2022-09-04T20:00:01.531Z"
   },
   {
    "duration": 0,
    "start_time": "2022-09-04T20:00:01.533Z"
   },
   {
    "duration": 0,
    "start_time": "2022-09-04T20:00:01.535Z"
   },
   {
    "duration": 0,
    "start_time": "2022-09-04T20:00:01.536Z"
   },
   {
    "duration": 0,
    "start_time": "2022-09-04T20:00:01.537Z"
   },
   {
    "duration": 0,
    "start_time": "2022-09-04T20:00:01.538Z"
   },
   {
    "duration": 0,
    "start_time": "2022-09-04T20:00:01.539Z"
   },
   {
    "duration": 0,
    "start_time": "2022-09-04T20:00:01.541Z"
   },
   {
    "duration": 0,
    "start_time": "2022-09-04T20:00:01.542Z"
   },
   {
    "duration": 0,
    "start_time": "2022-09-04T20:00:01.573Z"
   },
   {
    "duration": 0,
    "start_time": "2022-09-04T20:00:01.574Z"
   },
   {
    "duration": 0,
    "start_time": "2022-09-04T20:00:01.574Z"
   },
   {
    "duration": 0,
    "start_time": "2022-09-04T20:00:01.575Z"
   },
   {
    "duration": 0,
    "start_time": "2022-09-04T20:00:01.576Z"
   },
   {
    "duration": 0,
    "start_time": "2022-09-04T20:00:01.577Z"
   },
   {
    "duration": 0,
    "start_time": "2022-09-04T20:00:01.578Z"
   },
   {
    "duration": 0,
    "start_time": "2022-09-04T20:00:01.579Z"
   },
   {
    "duration": 0,
    "start_time": "2022-09-04T20:00:01.581Z"
   },
   {
    "duration": 0,
    "start_time": "2022-09-04T20:00:01.582Z"
   },
   {
    "duration": 0,
    "start_time": "2022-09-04T20:00:01.584Z"
   },
   {
    "duration": 0,
    "start_time": "2022-09-04T20:00:01.586Z"
   },
   {
    "duration": 0,
    "start_time": "2022-09-04T20:00:01.587Z"
   },
   {
    "duration": 0,
    "start_time": "2022-09-04T20:00:01.592Z"
   },
   {
    "duration": 0,
    "start_time": "2022-09-04T20:00:01.594Z"
   },
   {
    "duration": 0,
    "start_time": "2022-09-04T20:00:01.595Z"
   },
   {
    "duration": 0,
    "start_time": "2022-09-04T20:00:01.596Z"
   },
   {
    "duration": 1626,
    "start_time": "2022-09-04T20:00:33.583Z"
   },
   {
    "duration": 185,
    "start_time": "2022-09-04T20:00:35.211Z"
   },
   {
    "duration": 12,
    "start_time": "2022-09-04T20:00:35.398Z"
   },
   {
    "duration": 39,
    "start_time": "2022-09-04T20:00:35.412Z"
   },
   {
    "duration": 15,
    "start_time": "2022-09-04T20:00:35.453Z"
   },
   {
    "duration": 23,
    "start_time": "2022-09-04T20:00:35.473Z"
   },
   {
    "duration": 15,
    "start_time": "2022-09-04T20:00:35.498Z"
   },
   {
    "duration": 12,
    "start_time": "2022-09-04T20:00:35.514Z"
   },
   {
    "duration": 147,
    "start_time": "2022-09-04T20:00:35.528Z"
   },
   {
    "duration": 12,
    "start_time": "2022-09-04T20:00:35.680Z"
   },
   {
    "duration": 6,
    "start_time": "2022-09-04T20:00:35.695Z"
   },
   {
    "duration": 6,
    "start_time": "2022-09-04T20:00:35.703Z"
   },
   {
    "duration": 26,
    "start_time": "2022-09-04T20:00:35.711Z"
   },
   {
    "duration": 2,
    "start_time": "2022-09-04T20:00:35.739Z"
   },
   {
    "duration": 42,
    "start_time": "2022-09-04T20:00:35.744Z"
   },
   {
    "duration": 37,
    "start_time": "2022-09-04T20:00:35.789Z"
   },
   {
    "duration": 345,
    "start_time": "2022-09-04T20:00:35.828Z"
   },
   {
    "duration": 607,
    "start_time": "2022-09-04T20:00:36.175Z"
   },
   {
    "duration": 98155,
    "start_time": "2022-09-04T20:00:36.784Z"
   },
   {
    "duration": 138,
    "start_time": "2022-09-04T20:02:14.941Z"
   },
   {
    "duration": 500,
    "start_time": "2022-09-04T20:02:15.081Z"
   },
   {
    "duration": 102001,
    "start_time": "2022-09-04T20:02:15.582Z"
   },
   {
    "duration": 10,
    "start_time": "2022-09-04T20:03:57.585Z"
   },
   {
    "duration": 75,
    "start_time": "2022-09-04T20:03:57.596Z"
   },
   {
    "duration": 505,
    "start_time": "2022-09-04T20:03:57.673Z"
   },
   {
    "duration": 131581,
    "start_time": "2022-09-04T20:03:58.185Z"
   },
   {
    "duration": 15,
    "start_time": "2022-09-04T20:06:09.768Z"
   },
   {
    "duration": 87,
    "start_time": "2022-09-04T20:06:09.786Z"
   },
   {
    "duration": 309,
    "start_time": "2022-09-04T20:06:09.875Z"
   },
   {
    "duration": 61978,
    "start_time": "2022-09-04T20:06:10.186Z"
   },
   {
    "duration": 769,
    "start_time": "2022-09-04T20:07:12.168Z"
   },
   {
    "duration": 122,
    "start_time": "2022-09-04T20:12:51.065Z"
   },
   {
    "duration": 6,
    "start_time": "2022-09-04T20:12:56.699Z"
   },
   {
    "duration": 46,
    "start_time": "2022-09-04T20:13:12.529Z"
   },
   {
    "duration": 34,
    "start_time": "2022-09-04T20:13:24.641Z"
   },
   {
    "duration": 78,
    "start_time": "2022-09-04T20:13:38.300Z"
   },
   {
    "duration": 198,
    "start_time": "2022-09-04T20:13:57.585Z"
   },
   {
    "duration": 4,
    "start_time": "2022-09-04T20:14:31.708Z"
   },
   {
    "duration": 54,
    "start_time": "2022-09-04T20:14:32.138Z"
   },
   {
    "duration": 6,
    "start_time": "2022-09-04T20:15:00.003Z"
   },
   {
    "duration": 3,
    "start_time": "2022-09-04T20:15:38.684Z"
   },
   {
    "duration": 286,
    "start_time": "2022-09-04T20:15:45.894Z"
   },
   {
    "duration": 98,
    "start_time": "2022-09-04T20:16:07.182Z"
   },
   {
    "duration": 4,
    "start_time": "2022-09-04T20:16:33.901Z"
   },
   {
    "duration": 251,
    "start_time": "2022-09-04T20:19:36.919Z"
   },
   {
    "duration": 195,
    "start_time": "2022-09-04T20:20:36.283Z"
   },
   {
    "duration": 23,
    "start_time": "2022-09-04T20:20:57.533Z"
   },
   {
    "duration": 28,
    "start_time": "2022-09-04T20:21:07.440Z"
   }
  ],
  "kernelspec": {
   "display_name": "Python 3 (ipykernel)",
   "language": "python",
   "name": "python3"
  },
  "language_info": {
   "codemirror_mode": {
    "name": "ipython",
    "version": 3
   },
   "file_extension": ".py",
   "mimetype": "text/x-python",
   "name": "python",
   "nbconvert_exporter": "python",
   "pygments_lexer": "ipython3",
   "version": "3.9.12"
  },
  "toc": {
   "base_numbering": 1,
   "nav_menu": {},
   "number_sections": true,
   "sideBar": true,
   "skip_h1_title": true,
   "title_cell": "Содержание",
   "title_sidebar": "Contents",
   "toc_cell": true,
   "toc_position": {
    "height": "calc(100% - 180px)",
    "left": "10px",
    "top": "150px",
    "width": "383.188px"
   },
   "toc_section_display": true,
   "toc_window_display": true
  }
 },
 "nbformat": 4,
 "nbformat_minor": 2
}
